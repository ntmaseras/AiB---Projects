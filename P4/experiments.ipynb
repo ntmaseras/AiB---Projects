{
 "cells": [
  {
   "cell_type": "code",
   "execution_count": 9,
   "metadata": {},
   "outputs": [],
   "source": [
    "from rfdist import *\n",
    "import os\n",
    "import pandas as pd"
   ]
  },
  {
   "attachments": {},
   "cell_type": "markdown",
   "metadata": {},
   "source": [
    "#### Testing the rf-distance program"
   ]
  },
  {
   "cell_type": "code",
   "execution_count": 5,
   "metadata": {},
   "outputs": [
    {
     "data": {
      "text/plain": [
       "8"
      ]
     },
     "execution_count": 5,
     "metadata": {},
     "output_type": "execute_result"
    }
   ],
   "source": [
    "tree1 = parse_newick('Testdata/tree1.new')\n",
    "tree2 = parse_newick('Testdata/tree2.new')\n",
    "get_rf_distance(tree1,tree2)\n"
   ]
  },
  {
   "attachments": {},
   "cell_type": "markdown",
   "metadata": {},
   "source": [
    "### Experiment 1: nonpermuted trees"
   ]
  },
  {
   "cell_type": "code",
   "execution_count": 19,
   "metadata": {},
   "outputs": [
    {
     "data": {
      "text/html": [
       "<div>\n",
       "<style scoped>\n",
       "    .dataframe tbody tr th:only-of-type {\n",
       "        vertical-align: middle;\n",
       "    }\n",
       "\n",
       "    .dataframe tbody tr th {\n",
       "        vertical-align: top;\n",
       "    }\n",
       "\n",
       "    .dataframe thead th {\n",
       "        text-align: right;\n",
       "    }\n",
       "</style>\n",
       "<table border=\"1\" class=\"dataframe\">\n",
       "  <thead>\n",
       "    <tr style=\"text-align: right;\">\n",
       "      <th></th>\n",
       "      <th>clustal_aib_quicktree</th>\n",
       "      <th>clustal_aib_rapidnj</th>\n",
       "      <th>kalig_aib_quicktree</th>\n",
       "      <th>kalig_aib_rapidnj</th>\n",
       "      <th>muscle_aib_quicktree</th>\n",
       "      <th>muscle_aib_rapidnj</th>\n",
       "    </tr>\n",
       "  </thead>\n",
       "  <tbody>\n",
       "    <tr>\n",
       "      <th>clustal_aib_quicktree</th>\n",
       "      <td>0</td>\n",
       "      <td>264</td>\n",
       "      <td>206</td>\n",
       "      <td>318</td>\n",
       "      <td>198</td>\n",
       "      <td>246</td>\n",
       "    </tr>\n",
       "    <tr>\n",
       "      <th>clustal_aib_rapidnj</th>\n",
       "      <td>264</td>\n",
       "      <td>0</td>\n",
       "      <td>316</td>\n",
       "      <td>274</td>\n",
       "      <td>308</td>\n",
       "      <td>272</td>\n",
       "    </tr>\n",
       "    <tr>\n",
       "      <th>kalig_aib_quicktree</th>\n",
       "      <td>206</td>\n",
       "      <td>316</td>\n",
       "      <td>0</td>\n",
       "      <td>258</td>\n",
       "      <td>264</td>\n",
       "      <td>298</td>\n",
       "    </tr>\n",
       "    <tr>\n",
       "      <th>kalig_aib_rapidnj</th>\n",
       "      <td>318</td>\n",
       "      <td>274</td>\n",
       "      <td>258</td>\n",
       "      <td>0</td>\n",
       "      <td>338</td>\n",
       "      <td>310</td>\n",
       "    </tr>\n",
       "    <tr>\n",
       "      <th>muscle_aib_quicktree</th>\n",
       "      <td>198</td>\n",
       "      <td>308</td>\n",
       "      <td>264</td>\n",
       "      <td>338</td>\n",
       "      <td>0</td>\n",
       "      <td>192</td>\n",
       "    </tr>\n",
       "    <tr>\n",
       "      <th>muscle_aib_rapidnj</th>\n",
       "      <td>246</td>\n",
       "      <td>272</td>\n",
       "      <td>298</td>\n",
       "      <td>310</td>\n",
       "      <td>192</td>\n",
       "      <td>0</td>\n",
       "    </tr>\n",
       "  </tbody>\n",
       "</table>\n",
       "</div>"
      ],
      "text/plain": [
       "                      clustal_aib_quicktree clustal_aib_rapidnj  \\\n",
       "clustal_aib_quicktree                     0                 264   \n",
       "clustal_aib_rapidnj                     264                   0   \n",
       "kalig_aib_quicktree                     206                 316   \n",
       "kalig_aib_rapidnj                       318                 274   \n",
       "muscle_aib_quicktree                    198                 308   \n",
       "muscle_aib_rapidnj                      246                 272   \n",
       "\n",
       "                      kalig_aib_quicktree kalig_aib_rapidnj  \\\n",
       "clustal_aib_quicktree                 206               318   \n",
       "clustal_aib_rapidnj                   316               274   \n",
       "kalig_aib_quicktree                     0               258   \n",
       "kalig_aib_rapidnj                     258                 0   \n",
       "muscle_aib_quicktree                  264               338   \n",
       "muscle_aib_rapidnj                    298               310   \n",
       "\n",
       "                      muscle_aib_quicktree muscle_aib_rapidnj  \n",
       "clustal_aib_quicktree                  198                246  \n",
       "clustal_aib_rapidnj                    308                272  \n",
       "kalig_aib_quicktree                    264                298  \n",
       "kalig_aib_rapidnj                      338                310  \n",
       "muscle_aib_quicktree                     0                192  \n",
       "muscle_aib_rapidnj                     192                  0  "
      ]
     },
     "execution_count": 19,
     "metadata": {},
     "output_type": "execute_result"
    }
   ],
   "source": [
    "trees_nonpermuted = {}\n",
    "for file in os.listdir(\"nonpermuted\"):\n",
    "    path = \"nonpermuted/\"+file\n",
    "    trees_nonpermuted[file[:-7]] = parse_newick(path)\n",
    "trees_nonpermuted\n",
    "\n",
    "results = pd.DataFrame(columns = trees_nonpermuted.keys(),index =trees_nonpermuted.keys() )\n",
    "for name, t in trees_nonpermuted.items():\n",
    "    for name2,t2 in trees_nonpermuted.items():\n",
    "        results.loc[name,name2] = get_rf_distance(t,t2)\n",
    "results"
   ]
  },
  {
   "attachments": {},
   "cell_type": "markdown",
   "metadata": {},
   "source": [
    "#### Experiment 2: permuted trees"
   ]
  },
  {
   "cell_type": "code",
   "execution_count": 22,
   "metadata": {},
   "outputs": [
    {
     "data": {
      "text/html": [
       "<div>\n",
       "<style scoped>\n",
       "    .dataframe tbody tr th:only-of-type {\n",
       "        vertical-align: middle;\n",
       "    }\n",
       "\n",
       "    .dataframe tbody tr th {\n",
       "        vertical-align: top;\n",
       "    }\n",
       "\n",
       "    .dataframe thead th {\n",
       "        text-align: right;\n",
       "    }\n",
       "</style>\n",
       "<table border=\"1\" class=\"dataframe\">\n",
       "  <thead>\n",
       "    <tr style=\"text-align: right;\">\n",
       "      <th></th>\n",
       "      <th>clustal_aib_quicktree</th>\n",
       "      <th>clustal_aib_rapidnj</th>\n",
       "      <th>kalig_aib_quicktree</th>\n",
       "      <th>kalig_aib_rapidnj</th>\n",
       "      <th>muscle_aib_quicktree</th>\n",
       "      <th>muscle_aib_rapidnj</th>\n",
       "    </tr>\n",
       "  </thead>\n",
       "  <tbody>\n",
       "    <tr>\n",
       "      <th>clustal_aib_quicktree</th>\n",
       "      <td>0</td>\n",
       "      <td>268</td>\n",
       "      <td>198</td>\n",
       "      <td>288</td>\n",
       "      <td>158</td>\n",
       "      <td>216</td>\n",
       "    </tr>\n",
       "    <tr>\n",
       "      <th>clustal_aib_rapidnj</th>\n",
       "      <td>268</td>\n",
       "      <td>0</td>\n",
       "      <td>318</td>\n",
       "      <td>300</td>\n",
       "      <td>300</td>\n",
       "      <td>272</td>\n",
       "    </tr>\n",
       "    <tr>\n",
       "      <th>kalig_aib_quicktree</th>\n",
       "      <td>198</td>\n",
       "      <td>318</td>\n",
       "      <td>0</td>\n",
       "      <td>226</td>\n",
       "      <td>224</td>\n",
       "      <td>284</td>\n",
       "    </tr>\n",
       "    <tr>\n",
       "      <th>kalig_aib_rapidnj</th>\n",
       "      <td>288</td>\n",
       "      <td>300</td>\n",
       "      <td>226</td>\n",
       "      <td>0</td>\n",
       "      <td>298</td>\n",
       "      <td>268</td>\n",
       "    </tr>\n",
       "    <tr>\n",
       "      <th>muscle_aib_quicktree</th>\n",
       "      <td>158</td>\n",
       "      <td>300</td>\n",
       "      <td>224</td>\n",
       "      <td>298</td>\n",
       "      <td>0</td>\n",
       "      <td>208</td>\n",
       "    </tr>\n",
       "    <tr>\n",
       "      <th>muscle_aib_rapidnj</th>\n",
       "      <td>216</td>\n",
       "      <td>272</td>\n",
       "      <td>284</td>\n",
       "      <td>268</td>\n",
       "      <td>208</td>\n",
       "      <td>0</td>\n",
       "    </tr>\n",
       "  </tbody>\n",
       "</table>\n",
       "</div>"
      ],
      "text/plain": [
       "                      clustal_aib_quicktree clustal_aib_rapidnj  \\\n",
       "clustal_aib_quicktree                     0                 268   \n",
       "clustal_aib_rapidnj                     268                   0   \n",
       "kalig_aib_quicktree                     198                 318   \n",
       "kalig_aib_rapidnj                       288                 300   \n",
       "muscle_aib_quicktree                    158                 300   \n",
       "muscle_aib_rapidnj                      216                 272   \n",
       "\n",
       "                      kalig_aib_quicktree kalig_aib_rapidnj  \\\n",
       "clustal_aib_quicktree                 198               288   \n",
       "clustal_aib_rapidnj                   318               300   \n",
       "kalig_aib_quicktree                     0               226   \n",
       "kalig_aib_rapidnj                     226                 0   \n",
       "muscle_aib_quicktree                  224               298   \n",
       "muscle_aib_rapidnj                    284               268   \n",
       "\n",
       "                      muscle_aib_quicktree muscle_aib_rapidnj  \n",
       "clustal_aib_quicktree                  158                216  \n",
       "clustal_aib_rapidnj                    300                272  \n",
       "kalig_aib_quicktree                    224                284  \n",
       "kalig_aib_rapidnj                      298                268  \n",
       "muscle_aib_quicktree                     0                208  \n",
       "muscle_aib_rapidnj                     208                  0  "
      ]
     },
     "execution_count": 22,
     "metadata": {},
     "output_type": "execute_result"
    }
   ],
   "source": [
    "trees_permuted = {}\n",
    "for file in os.listdir(\"permuted\"):\n",
    "    path = \"permuted/\"+file\n",
    "    trees_permuted[file[:-7]] = parse_newick(path)\n",
    "trees_nonpermuted\n",
    "\n",
    "results = pd.DataFrame(columns = trees_permuted.keys(),index =trees_permuted.keys() )\n",
    "for name, t in trees_permuted.items():\n",
    "    for name2,t2 in trees_permuted.items():\n",
    "        results.loc[name,name2] = get_rf_distance(t,t2)\n",
    "results"
   ]
  },
  {
   "attachments": {},
   "cell_type": "markdown",
   "metadata": {},
   "source": [
    "#### Experiment 3: permuted vs nonpermuted"
   ]
  },
  {
   "cell_type": "code",
   "execution_count": 28,
   "metadata": {},
   "outputs": [
    {
     "data": {
      "text/html": [
       "<div>\n",
       "<style scoped>\n",
       "    .dataframe tbody tr th:only-of-type {\n",
       "        vertical-align: middle;\n",
       "    }\n",
       "\n",
       "    .dataframe tbody tr th {\n",
       "        vertical-align: top;\n",
       "    }\n",
       "\n",
       "    .dataframe thead th {\n",
       "        text-align: right;\n",
       "    }\n",
       "</style>\n",
       "<table border=\"1\" class=\"dataframe\">\n",
       "  <thead>\n",
       "    <tr style=\"text-align: right;\">\n",
       "      <th></th>\n",
       "      <th>clustal_aib_quicktree</th>\n",
       "      <th>clustal_aib_rapidnj</th>\n",
       "      <th>kalig_aib_quicktree</th>\n",
       "      <th>kalig_aib_rapidnj</th>\n",
       "      <th>muscle_aib_quicktree</th>\n",
       "      <th>muscle_aib_rapidnj</th>\n",
       "    </tr>\n",
       "  </thead>\n",
       "  <tbody>\n",
       "    <tr>\n",
       "      <th>Distance permuted vs nonpermuted</th>\n",
       "      <td>72</td>\n",
       "      <td>162</td>\n",
       "      <td>172</td>\n",
       "      <td>290</td>\n",
       "      <td>158</td>\n",
       "      <td>216</td>\n",
       "    </tr>\n",
       "  </tbody>\n",
       "</table>\n",
       "</div>"
      ],
      "text/plain": [
       "                                 clustal_aib_quicktree clustal_aib_rapidnj  \\\n",
       "Distance permuted vs nonpermuted                    72                 162   \n",
       "\n",
       "                                 kalig_aib_quicktree kalig_aib_rapidnj  \\\n",
       "Distance permuted vs nonpermuted                 172               290   \n",
       "\n",
       "                                 muscle_aib_quicktree muscle_aib_rapidnj  \n",
       "Distance permuted vs nonpermuted                  158                216  "
      ]
     },
     "execution_count": 28,
     "metadata": {},
     "output_type": "execute_result"
    }
   ],
   "source": [
    "results = pd.DataFrame(columns = trees_permuted.keys())\n",
    "for name, t in trees_permuted.items():\n",
    "    t2 = trees_nonpermuted[name]\n",
    "    results.loc[\"Distance permuted vs nonpermuted\",name] = get_rf_distance(trees_permuted[name],trees_nonpermuted[name])\n",
    "results"
   ]
  }
 ],
 "metadata": {
  "kernelspec": {
   "display_name": "base",
   "language": "python",
   "name": "python3"
  },
  "language_info": {
   "codemirror_mode": {
    "name": "ipython",
    "version": 3
   },
   "file_extension": ".py",
   "mimetype": "text/x-python",
   "name": "python",
   "nbconvert_exporter": "python",
   "pygments_lexer": "ipython3",
   "version": "3.9.16"
  },
  "orig_nbformat": 4
 },
 "nbformat": 4,
 "nbformat_minor": 2
}
