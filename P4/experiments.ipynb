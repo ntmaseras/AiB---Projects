{
 "cells": [
  {
   "cell_type": "code",
   "execution_count": 19,
   "metadata": {},
   "outputs": [],
   "source": [
    "from rfdist import *\n",
    "import os"
   ]
  },
  {
   "attachments": {},
   "cell_type": "markdown",
   "metadata": {},
   "source": [
    "### Read the trees nonpermuted"
   ]
  },
  {
   "cell_type": "code",
   "execution_count": 12,
   "metadata": {},
   "outputs": [
    {
     "data": {
      "text/plain": [
       "[[0, 264, 206, 318, 198, 246],\n",
       " [264, 0, 316, 274, 308, 272],\n",
       " [206, 316, 0, 258, 264, 298],\n",
       " [318, 274, 258, 0, 338, 310],\n",
       " [198, 308, 264, 338, 0, 192],\n",
       " [246, 272, 298, 310, 192, 0]]"
      ]
     },
     "execution_count": 12,
     "metadata": {},
     "output_type": "execute_result"
    }
   ],
   "source": [
    "trees_nonpermuted = []\n",
    "for file in os.listdir(\"nonper\"):\n",
    "    path = \"nonper/\"+file\n",
    "    trees_nonpermuted.append(parse_newick(path))\n",
    "\n",
    "results = []\n",
    "for t in trees_nonpermuted:\n",
    "    ap = []\n",
    "    for t2 in trees_nonpermuted:\n",
    "        ap.append(get_rf_distance(t,t2))\n",
    "    results.append(ap)\n",
    "results\n",
    "    "
   ]
  },
  {
   "attachments": {},
   "cell_type": "markdown",
   "metadata": {},
   "source": [
    "#### Read the permuted trees:"
   ]
  },
  {
   "cell_type": "code",
   "execution_count": 13,
   "metadata": {},
   "outputs": [
    {
     "data": {
      "text/plain": [
       "[[0, 268, 198, 288, 158, 216],\n",
       " [268, 0, 318, 300, 300, 272],\n",
       " [198, 318, 0, 226, 224, 284],\n",
       " [288, 300, 226, 0, 298, 268],\n",
       " [158, 300, 224, 298, 0, 208],\n",
       " [216, 272, 284, 268, 208, 0]]"
      ]
     },
     "execution_count": 13,
     "metadata": {},
     "output_type": "execute_result"
    }
   ],
   "source": [
    "trees_permuted = []\n",
    "for file in os.listdir(\"per\"):\n",
    "    path = \"per/\"+file\n",
    "    trees_permuted.append(parse_newick(path))\n",
    "results = []\n",
    "for t in trees_permuted:\n",
    "    ap = []\n",
    "    for t2 in trees_permuted:\n",
    "        ap.append(get_rf_distance(t,t2))\n",
    "    results.append(ap)\n",
    "results"
   ]
  },
  {
   "attachments": {},
   "cell_type": "markdown",
   "metadata": {},
   "source": [
    "#### Experiment 3: permuted vs nonpermuted"
   ]
  },
  {
   "cell_type": "code",
   "execution_count": 17,
   "metadata": {},
   "outputs": [
    {
     "data": {
      "text/plain": [
       "[72, 162, 172, 290, 158, 216]"
      ]
     },
     "execution_count": 17,
     "metadata": {},
     "output_type": "execute_result"
    }
   ],
   "source": [
    "exp3 = []\n",
    "for i in range(len(trees_permuted)):\n",
    "    for j in range(len(trees_permuted)):\n",
    "        if i == j:\n",
    "            exp3.append(get_rf_distance(trees_permuted[i],trees_nonpermuted[j]))\n",
    "exp3"
   ]
  }
 ],
 "metadata": {
  "kernelspec": {
   "display_name": "base",
   "language": "python",
   "name": "python3"
  },
  "language_info": {
   "codemirror_mode": {
    "name": "ipython",
    "version": 3
   },
   "file_extension": ".py",
   "mimetype": "text/x-python",
   "name": "python",
   "nbconvert_exporter": "python",
   "pygments_lexer": "ipython3",
   "version": "3.9.16"
  },
  "orig_nbformat": 4
 },
 "nbformat": 4,
 "nbformat_minor": 2
}
