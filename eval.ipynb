{
 "cells": [
  {
   "attachments": {},
   "cell_type": "markdown",
   "metadata": {},
   "source": [
    "\n",
    "#### Eval cases for global alignment usign linear and affine gap cost\n",
    "\n",
    "Consider the score matrix M for dna sequences\n",
    "\n",
    "   A  C  G  T\n",
    "A  0  5  2  5\n",
    "C  5  0  5  2\n",
    "G  2  5  0  5\n",
    "T  5  2  5  0\n",
    "\n",
    "and the following 5 sequences\n",
    "\n",
    ">seq1\n",
    "tatggagagaataaaagaactgagagatctaatgtcgcagtcccgcactcgcgagatact\n",
    "cactaagaccactgtggaccatatggccataatcaaaaag\n",
    "\n",
    ">seq2\n",
    "atggatgtcaatccgactctacttttcctaaaaattccagcgcaaaatgccataagcacc\n",
    "acattcccttatactggagatcctccatacagccatggaa\n",
    "\n",
    ">seq3\n",
    "tccaaaatggaagactttgtgcgacaatgcttcaatccaatgatcgtcgagcttgcggaa\n",
    "aaggcaatgaaagaatatggggaagatccgaaaatcgaaa\n",
    "\n",
    ">seq4\n",
    "aaaagcaacaaaaatgaaggcaatactagtagttctgctatatacatttgcaaccgcaaa\n",
    "tgcagacacattatgtataggttatcatgcgaacaattca\n",
    "\n",
    ">seq5\n",
    "atgagtgacatcgaagccatggcgtctcaaggcaccaaacgatcatatgaacaaatggag\n",
    "actggtggggagcgccaggatgccacagaaatcagagcat\n",
    "\n",
    "\n",
    "In your report include the answers to the following questions.\n",
    "\n"
   ]
  },
  {
   "cell_type": "code",
   "execution_count": 1,
   "metadata": {},
   "outputs": [],
   "source": [
    "import sys\n",
    "from parsing import parse_matrix_and_gap\n",
    "from alignment import global_alignment_linear,global_alignment_affine\n",
    "\n",
    "\n",
    "seq1 = 'tatggagagaataaaagaactgagagatctaatgtcgcagtcccgcactcgcgagatactcactaagaccactgtggaccatatggccataatcaaaaag'\n",
    "seq2 = 'atggatgtcaatccgactctacttttcctaaaaattccagcgcaaaatgccataagcaccacattcccttatactggagatcctccatacagccatggaa'\n",
    "seq3 = 'tccaaaatggaagactttgtgcgacaatgcttcaatccaatgatcgtcgagcttgcggaaaaggcaatgaaagaatatggggaagatccgaaaatcgaaa'\n",
    "seq4 = 'aaaagcaacaaaaatgaaggcaatactagtagttctgctatatacatttgcaaccgcaaatgcagacacattatgtataggttatcatgcgaacaattca'\n",
    "seq5 = 'atgagtgacatcgaagccatggcgtctcaaggcaccaaacgatcatatgaacaaatggagactggtggggagcgccaggatgccacagaaatcagagcat'"
   ]
  },
  {
   "attachments": {},
   "cell_type": "markdown",
   "metadata": {},
   "source": [
    "#### Question 1 \n",
    "---------- \n",
    "\n",
    "Compute the score of an optimal alignment and an optimal alignment of\n",
    "seq1 and seq2 above using the programs global_linear using the above\n",
    "score matrix M and gap cost g(k)=5*k"
   ]
  },
  {
   "cell_type": "code",
   "execution_count": 2,
   "metadata": {},
   "outputs": [
    {
     "name": "stdout",
     "output_type": "stream",
     "text": [
      "The optimal score for the alignment of seq1 and seq2 is (global_linear):  226\n"
     ]
    }
   ],
   "source": [
    "substitution_matrix_l, gap_cost = parse_matrix_and_gap(\"subst_matrix_l.txt\")\n",
    "score,_,_ = global_alignment_linear(seq1.upper(), seq2.upper(), gap_cost, substitution_matrix_l)\n",
    "print(\"The optimal score for the alignment of seq1 and seq2 is (global_linear): \",score)"
   ]
  },
  {
   "attachments": {},
   "cell_type": "markdown",
   "metadata": {},
   "source": [
    "#### Question 2\n",
    "----------\n",
    "\n",
    "Compute the score of an optimal alignment and an optimal alignment of\n",
    "seq1 and seq2 above using the program global_affine using the above\n",
    "score matrix M and gap cost g(k)=5+5*k\n"
   ]
  },
  {
   "cell_type": "code",
   "execution_count": 3,
   "metadata": {},
   "outputs": [
    {
     "name": "stdout",
     "output_type": "stream",
     "text": [
      "The optimal score for the alignment of seq1 and seq2 is (global_affine):  266\n"
     ]
    }
   ],
   "source": [
    "substitution_matrix_a, gaps = parse_matrix_and_gap(\"subst_matrix_a.txt\")\n",
    "score,_,_ = global_alignment_affine(seq1.upper(), seq2.upper(), gaps[0],gaps[1], substitution_matrix_a)\n",
    "print(\"The optimal score for the alignment of seq1 and seq2 is (global_affine): \",score)"
   ]
  },
  {
   "attachments": {},
   "cell_type": "markdown",
   "metadata": {},
   "source": [
    "#### Question 3\n",
    "----------\n",
    "\n",
    "Compute the optimal score of an optimal alignment for each pair of the\n",
    "5 sequences above using global_linear with the score matrix M and gap\n",
    "cost g(k)=5*k. The result is a 5x5 table where entry (i,j) the optimal\n",
    "score of an alignment of seqi and seqj."
   ]
  },
  {
   "cell_type": "code",
   "execution_count": 4,
   "metadata": {},
   "outputs": [
    {
     "data": {
      "text/plain": [
       "[[0, 226, 206, 202, 209],\n",
       " [226, 0, 239, 223, 220],\n",
       " [206, 239, 0, 219, 205],\n",
       " [202, 223, 219, 0, 210],\n",
       " [209, 220, 205, 210, 0]]"
      ]
     },
     "execution_count": 4,
     "metadata": {},
     "output_type": "execute_result"
    }
   ],
   "source": [
    "table = [[0 for _ in range(5)] for _ in range(5)]\n",
    "for i, seq_i in enumerate([seq1, seq2, seq3, seq4, seq5]):\n",
    "    for j, seq_j in enumerate([seq1, seq2, seq3, seq4, seq5]):\n",
    "        score,_,_ = global_alignment_linear(seq_i.upper(), seq_j.upper(), gap_cost,substitution_matrix_l)\n",
    "        table[i][j] = score\n",
    "table"
   ]
  },
  {
   "attachments": {},
   "cell_type": "markdown",
   "metadata": {},
   "source": [
    "\n",
    "\n",
    "#### Question 4\n",
    "----------\n",
    "\n",
    "Compute the optimal score of an optimal alignment for each pair of the\n",
    "5 sequences above using global_affine with the score matrix M and gap\n",
    "cost g(k)=5+5*k. The result is a 5x5 table where entry (i,j) the\n",
    "optimal score of an alignment of seqi and seqj."
   ]
  },
  {
   "cell_type": "code",
   "execution_count": 5,
   "metadata": {},
   "outputs": [
    {
     "data": {
      "text/plain": [
       "[[0, 266, 242, 243, 256],\n",
       " [266, 0, 283, 259, 254],\n",
       " [242, 283, 0, 269, 243],\n",
       " [243, 259, 269, 0, 247],\n",
       " [256, 254, 243, 247, 0]]"
      ]
     },
     "execution_count": 5,
     "metadata": {},
     "output_type": "execute_result"
    }
   ],
   "source": [
    "table = [[0 for _ in range(5)] for _ in range(5)]\n",
    "for i, seq_i in enumerate([seq1, seq2, seq3, seq4, seq5]):\n",
    "    for j, seq_j in enumerate([seq1, seq2, seq3, seq4, seq5]):\n",
    "        score,_,_ = global_alignment_affine(seq_i.upper(), seq_j.upper(), gaps[0],gaps[1], substitution_matrix_a)\n",
    "        table[i][j] = score\n",
    "table"
   ]
  }
 ],
 "metadata": {
  "kernelspec": {
   "display_name": "base",
   "language": "python",
   "name": "python3"
  },
  "language_info": {
   "codemirror_mode": {
    "name": "ipython",
    "version": 3
   },
   "file_extension": ".py",
   "mimetype": "text/x-python",
   "name": "python",
   "nbconvert_exporter": "python",
   "pygments_lexer": "ipython3",
   "version": "3.9.16"
  },
  "orig_nbformat": 4,
  "vscode": {
   "interpreter": {
    "hash": "3e624a621f338fa67e80259829e8acdb647916490a1d3f542433b1c4fb7f4c46"
   }
  }
 },
 "nbformat": 4,
 "nbformat_minor": 2
}
