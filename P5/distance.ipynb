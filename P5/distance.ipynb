{
 "cells": [
  {
   "cell_type": "code",
   "execution_count": 68,
   "metadata": {},
   "outputs": [],
   "source": [
    "from rfdist import *\n",
    "import os\n",
    "import pandas as pd"
   ]
  },
  {
   "attachments": {},
   "cell_type": "markdown",
   "metadata": {},
   "source": [
    "#### Parse trees"
   ]
  },
  {
   "cell_type": "code",
   "execution_count": 118,
   "metadata": {},
   "outputs": [],
   "source": [
    "trees_capi = {}\n",
    "for file in os.listdir(\"output/capi\"):\n",
    "    path = \"output/capi/\" + file\n",
    "    trees_capi[file] = parse_newick(path)\n",
    "trees_quicktree = {}\n",
    "for file in os.listdir(\"output/quicktree\"):\n",
    "    path = \"output/quicktree/\" + file\n",
    "    trees_quicktree[file] = parse_newick(path)\n",
    "trees_rapidnj = {}\n",
    "for file in os.listdir(\"output/rapidnj\"):\n",
    "    path = \"output/rapidnj/\" + file\n",
    "    trees_rapidnj[file] = parse_newick(path)"
   ]
  },
  {
   "attachments": {},
   "cell_type": "markdown",
   "metadata": {},
   "source": [
    "#### RF-distances"
   ]
  },
  {
   "cell_type": "code",
   "execution_count": 119,
   "metadata": {},
   "outputs": [
    {
     "data": {
      "text/html": [
       "<div>\n",
       "<style scoped>\n",
       "    .dataframe tbody tr th:only-of-type {\n",
       "        vertical-align: middle;\n",
       "    }\n",
       "\n",
       "    .dataframe tbody tr th {\n",
       "        vertical-align: top;\n",
       "    }\n",
       "\n",
       "    .dataframe thead th {\n",
       "        text-align: right;\n",
       "    }\n",
       "</style>\n",
       "<table border=\"1\" class=\"dataframe\">\n",
       "  <thead>\n",
       "    <tr style=\"text-align: right;\">\n",
       "      <th></th>\n",
       "      <th>214_Arena_glycoprot.nwk</th>\n",
       "      <th>304_A1_Propeptide.nwk</th>\n",
       "      <th>401_DDE.nwk</th>\n",
       "      <th>494_Astro_capsid.nwk</th>\n",
       "      <th>89_Adeno_E3_CR1.nwk</th>\n",
       "    </tr>\n",
       "  </thead>\n",
       "  <tbody>\n",
       "    <tr>\n",
       "      <th>Distance our implementation vs QuickTree</th>\n",
       "      <td>215</td>\n",
       "      <td>305</td>\n",
       "      <td>403</td>\n",
       "      <td>496</td>\n",
       "      <td>91</td>\n",
       "    </tr>\n",
       "    <tr>\n",
       "      <th>Distance our implementation vs RapidNJ</th>\n",
       "      <td>215</td>\n",
       "      <td>305</td>\n",
       "      <td>403</td>\n",
       "      <td>496</td>\n",
       "      <td>91</td>\n",
       "    </tr>\n",
       "    <tr>\n",
       "      <th>Distance QuickTree vs RapidNJ</th>\n",
       "      <td>56</td>\n",
       "      <td>80</td>\n",
       "      <td>100</td>\n",
       "      <td>532</td>\n",
       "      <td>32</td>\n",
       "    </tr>\n",
       "  </tbody>\n",
       "</table>\n",
       "</div>"
      ],
      "text/plain": [
       "                                         214_Arena_glycoprot.nwk   \n",
       "Distance our implementation vs QuickTree                     215  \\\n",
       "Distance our implementation vs RapidNJ                       215   \n",
       "Distance QuickTree vs RapidNJ                                 56   \n",
       "\n",
       "                                         304_A1_Propeptide.nwk 401_DDE.nwk   \n",
       "Distance our implementation vs QuickTree                   305         403  \\\n",
       "Distance our implementation vs RapidNJ                     305         403   \n",
       "Distance QuickTree vs RapidNJ                               80         100   \n",
       "\n",
       "                                         494_Astro_capsid.nwk   \n",
       "Distance our implementation vs QuickTree                  496  \\\n",
       "Distance our implementation vs RapidNJ                    496   \n",
       "Distance QuickTree vs RapidNJ                             532   \n",
       "\n",
       "                                         89_Adeno_E3_CR1.nwk  \n",
       "Distance our implementation vs QuickTree                  91  \n",
       "Distance our implementation vs RapidNJ                    91  \n",
       "Distance QuickTree vs RapidNJ                             32  "
      ]
     },
     "execution_count": 119,
     "metadata": {},
     "output_type": "execute_result"
    }
   ],
   "source": [
    "results = pd.DataFrame(columns = trees_capi.keys())\n",
    "for name, capi_tree in trees_capi.items():\n",
    "    quicktree = name[:-3]+'phy.quicktree'\n",
    "    rapid = name[:-3]+'phy.rapidnj'\n",
    "    \n",
    "    t_quicktree = trees_quicktree[quicktree]\n",
    "    t_rapidnj = trees_rapidnj[rapid]\n",
    "    \n",
    "    results.loc[\"Distance our implementation vs QuickTree\",name] =  get_rf_distance(capi_tree,t_quicktree)\n",
    "    results.loc[\"Distance our implementation vs RapidNJ\",name] =    get_rf_distance(capi_tree,t_rapidnj)\n",
    "    results.loc[\"Distance QuickTree vs RapidNJ\",name]      =        get_rf_distance(t_quicktree,t_rapidnj)\n",
    "results"
   ]
  }
 ],
 "metadata": {
  "kernelspec": {
   "display_name": "base",
   "language": "python",
   "name": "python3"
  },
  "language_info": {
   "codemirror_mode": {
    "name": "ipython",
    "version": 3
   },
   "file_extension": ".py",
   "mimetype": "text/x-python",
   "name": "python",
   "nbconvert_exporter": "python",
   "pygments_lexer": "ipython3",
   "version": "3.9.16"
  },
  "orig_nbformat": 4
 },
 "nbformat": 4,
 "nbformat_minor": 2
}
