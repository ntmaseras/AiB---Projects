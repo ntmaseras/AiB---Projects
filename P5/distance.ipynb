{
 "cells": [
  {
   "cell_type": "code",
   "execution_count": 68,
   "metadata": {},
   "outputs": [],
   "source": [
    "from rfdist import *\n",
    "import os\n",
    "import pandas as pd"
   ]
  },
  {
   "cell_type": "code",
   "execution_count": 69,
   "metadata": {},
   "outputs": [],
   "source": [
    "trees_capi = {}\n",
    "for file in os.listdir(\"output/capi\"):\n",
    "    path = \"output/capi/\" +file\n",
    "    trees_capi[file] = parse_newick(path)\n",
    "trees_quicktree = {}\n",
    "for file in os.listdir(\"output/quicktree\"):\n",
    "    path = \"output/quicktree/\" +file\n",
    "    trees_quicktree[file] = parse_newick(path)\n",
    "trees_rapidnj = {}\n",
    "for file in os.listdir(\"output/rapidnj\"):\n",
    "    path = \"output/rapidnj/\" +file\n",
    "    trees_rapidnj[file] = parse_newick(path)"
   ]
  },
  {
   "cell_type": "code",
   "execution_count": 91,
   "metadata": {},
   "outputs": [
    {
     "data": {
      "text/plain": [
       "{'1347_FAINT.phy.rapidnj': Tree(rooted=False, weight=1.0),\n",
       " '1493_Fe-ADH.phy.rapidnj': Tree(rooted=False, weight=1.0),\n",
       " '1560_Ferritin.phy.rapidnj': Tree(rooted=False, weight=1.0),\n",
       " '1689_FGGY_N.phy.rapidnj': Tree(rooted=False, weight=1.0),\n",
       " '1756_FAD_binding_3.phy.rapidnj': Tree(rooted=False, weight=1.0),\n",
       " '1849_FG-GAP.phy.rapidnj': Tree(rooted=False, weight=1.0),\n",
       " '214_Arena_glycoprot.phy.rapidnj': Tree(rooted=False, weight=1.0),\n",
       " '304_A1_Propeptide.phy.rapidnj': Tree(rooted=False, weight=1.0),\n",
       " '401_DDE.phy.rapidnj': Tree(rooted=False, weight=1.0),\n",
       " '494_Astro_capsid.phy.rapidnj': Tree(rooted=False, weight=1.0),\n",
       " '608_Gemini_AL2.phy.rapidnj': Tree(rooted=False, weight=1.0),\n",
       " '777_Gemini_V1.phy.rapidnj': Tree(rooted=False, weight=1.0),\n",
       " '877_Glu_synthase.phy.rapidnj': Tree(rooted=False, weight=1.0),\n",
       " '89_Adeno_E3_CR1.phy.rapidnj': Tree(rooted=False, weight=1.0)}"
      ]
     },
     "execution_count": 91,
     "metadata": {},
     "output_type": "execute_result"
    }
   ],
   "source": [
    "trees_rapidnj"
   ]
  },
  {
   "attachments": {},
   "cell_type": "markdown",
   "metadata": {},
   "source": [
    "#### RF-dist Our algorithm vs Quicktree"
   ]
  },
  {
   "cell_type": "code",
   "execution_count": 79,
   "metadata": {},
   "outputs": [
    {
     "data": {
      "text/html": [
       "<div>\n",
       "<style scoped>\n",
       "    .dataframe tbody tr th:only-of-type {\n",
       "        vertical-align: middle;\n",
       "    }\n",
       "\n",
       "    .dataframe tbody tr th {\n",
       "        vertical-align: top;\n",
       "    }\n",
       "\n",
       "    .dataframe thead th {\n",
       "        text-align: right;\n",
       "    }\n",
       "</style>\n",
       "<table border=\"1\" class=\"dataframe\">\n",
       "  <thead>\n",
       "    <tr style=\"text-align: right;\">\n",
       "      <th></th>\n",
       "      <th>214_Arena_glycoprot.nwk</th>\n",
       "      <th>304_A1_Propeptide.nwk</th>\n",
       "      <th>401_DDE.nwk</th>\n",
       "      <th>494_Astro_capsid.nwk</th>\n",
       "      <th>89_Adeno_E3_CR1.nwk</th>\n",
       "    </tr>\n",
       "  </thead>\n",
       "  <tbody>\n",
       "    <tr>\n",
       "      <th>Distance our implementations vs quicktree</th>\n",
       "      <td>215</td>\n",
       "      <td>305</td>\n",
       "      <td>403</td>\n",
       "      <td>496</td>\n",
       "      <td>91</td>\n",
       "    </tr>\n",
       "  </tbody>\n",
       "</table>\n",
       "</div>"
      ],
      "text/plain": [
       "                                          214_Arena_glycoprot.nwk   \n",
       "Distance our implementations vs quicktree                     215  \\\n",
       "\n",
       "                                          304_A1_Propeptide.nwk 401_DDE.nwk   \n",
       "Distance our implementations vs quicktree                   305         403  \\\n",
       "\n",
       "                                          494_Astro_capsid.nwk   \n",
       "Distance our implementations vs quicktree                  496  \\\n",
       "\n",
       "                                          89_Adeno_E3_CR1.nwk  \n",
       "Distance our implementations vs quicktree                  91  "
      ]
     },
     "execution_count": 79,
     "metadata": {},
     "output_type": "execute_result"
    }
   ],
   "source": [
    "results = pd.DataFrame(columns = trees_capi.keys())\n",
    "for name, t in trees_capi.items():\n",
    "    name_ = name[:-3]+'phy.quicktree'\n",
    "    results.loc[\"Distance our implementation vs quicktree\",name] = get_rf_distance(t,trees_quicktree[name_])\n",
    "results"
   ]
  },
  {
   "attachments": {},
   "cell_type": "markdown",
   "metadata": {},
   "source": [
    "#### RF-dist Our algorithm vs RapidNJ"
   ]
  },
  {
   "cell_type": "code",
   "execution_count": 82,
   "metadata": {},
   "outputs": [
    {
     "data": {
      "text/html": [
       "<div>\n",
       "<style scoped>\n",
       "    .dataframe tbody tr th:only-of-type {\n",
       "        vertical-align: middle;\n",
       "    }\n",
       "\n",
       "    .dataframe tbody tr th {\n",
       "        vertical-align: top;\n",
       "    }\n",
       "\n",
       "    .dataframe thead th {\n",
       "        text-align: right;\n",
       "    }\n",
       "</style>\n",
       "<table border=\"1\" class=\"dataframe\">\n",
       "  <thead>\n",
       "    <tr style=\"text-align: right;\">\n",
       "      <th></th>\n",
       "      <th>214_Arena_glycoprot.nwk</th>\n",
       "      <th>304_A1_Propeptide.nwk</th>\n",
       "      <th>401_DDE.nwk</th>\n",
       "      <th>494_Astro_capsid.nwk</th>\n",
       "      <th>89_Adeno_E3_CR1.nwk</th>\n",
       "    </tr>\n",
       "  </thead>\n",
       "  <tbody>\n",
       "    <tr>\n",
       "      <th>Distance our implementation vs rapidNJ</th>\n",
       "      <td>215</td>\n",
       "      <td>305</td>\n",
       "      <td>403</td>\n",
       "      <td>496</td>\n",
       "      <td>91</td>\n",
       "    </tr>\n",
       "  </tbody>\n",
       "</table>\n",
       "</div>"
      ],
      "text/plain": [
       "                                       214_Arena_glycoprot.nwk   \n",
       "Distance our implementation vs rapidNJ                     215  \\\n",
       "\n",
       "                                       304_A1_Propeptide.nwk 401_DDE.nwk   \n",
       "Distance our implementation vs rapidNJ                   305         403  \\\n",
       "\n",
       "                                       494_Astro_capsid.nwk   \n",
       "Distance our implementation vs rapidNJ                  496  \\\n",
       "\n",
       "                                       89_Adeno_E3_CR1.nwk  \n",
       "Distance our implementation vs rapidNJ                  91  "
      ]
     },
     "execution_count": 82,
     "metadata": {},
     "output_type": "execute_result"
    }
   ],
   "source": [
    "results = pd.DataFrame(columns = trees_capi.keys())\n",
    "for name, t in trees_capi.items():\n",
    "    name_ = name[:-3]+'phy.rapidnj'\n",
    "    results.loc[\"Distance our implementation vs rapidNJ\",name] = get_rf_distance(t,trees_rapidnj[name_])\n",
    "results"
   ]
  },
  {
   "cell_type": "markdown",
   "metadata": {},
   "source": [
    "#### RF-dist Quicktree vs RapidNJ"
   ]
  },
  {
   "cell_type": "code",
   "execution_count": 90,
   "metadata": {},
   "outputs": [
    {
     "data": {
      "text/html": [
       "<div>\n",
       "<style scoped>\n",
       "    .dataframe tbody tr th:only-of-type {\n",
       "        vertical-align: middle;\n",
       "    }\n",
       "\n",
       "    .dataframe tbody tr th {\n",
       "        vertical-align: top;\n",
       "    }\n",
       "\n",
       "    .dataframe thead th {\n",
       "        text-align: right;\n",
       "    }\n",
       "</style>\n",
       "<table border=\"1\" class=\"dataframe\">\n",
       "  <thead>\n",
       "    <tr style=\"text-align: right;\">\n",
       "      <th></th>\n",
       "      <th>1347_FAINT.phy.quicktree</th>\n",
       "      <th>1493_Fe-ADH.phy.quicktree</th>\n",
       "      <th>1560_Ferritin.phy.quicktree</th>\n",
       "      <th>1689_FGGY_N.phy.quicktree</th>\n",
       "      <th>1756_FAD_binding_3.phy.quicktree</th>\n",
       "      <th>1849_FG-GAP.phy.quicktree</th>\n",
       "      <th>214_Arena_glycoprot.phy.quicktree</th>\n",
       "      <th>304_A1_Propeptide.phy.quicktree</th>\n",
       "      <th>401_DDE.phy.quicktree</th>\n",
       "      <th>494_Astro_capsid.phy.quicktree</th>\n",
       "      <th>608_Gemini_AL2.phy.quicktree</th>\n",
       "      <th>777_Gemini_V1.phy.quicktree</th>\n",
       "      <th>877_Glu_synthase.phy.quicktree</th>\n",
       "      <th>89_Adeno_E3_CR1.phy.quicktree</th>\n",
       "    </tr>\n",
       "  </thead>\n",
       "  <tbody>\n",
       "    <tr>\n",
       "      <th>Distance Quicktree vs rapidNJ</th>\n",
       "      <td>6</td>\n",
       "      <td>94</td>\n",
       "      <td>154</td>\n",
       "      <td>104</td>\n",
       "      <td>78</td>\n",
       "      <td>282</td>\n",
       "      <td>56</td>\n",
       "      <td>80</td>\n",
       "      <td>100</td>\n",
       "      <td>532</td>\n",
       "      <td>20</td>\n",
       "      <td>494</td>\n",
       "      <td>56</td>\n",
       "      <td>32</td>\n",
       "    </tr>\n",
       "  </tbody>\n",
       "</table>\n",
       "</div>"
      ],
      "text/plain": [
       "                              1347_FAINT.phy.quicktree   \n",
       "Distance Quicktree vs rapidNJ                        6  \\\n",
       "\n",
       "                              1493_Fe-ADH.phy.quicktree   \n",
       "Distance Quicktree vs rapidNJ                        94  \\\n",
       "\n",
       "                              1560_Ferritin.phy.quicktree   \n",
       "Distance Quicktree vs rapidNJ                         154  \\\n",
       "\n",
       "                              1689_FGGY_N.phy.quicktree   \n",
       "Distance Quicktree vs rapidNJ                       104  \\\n",
       "\n",
       "                              1756_FAD_binding_3.phy.quicktree   \n",
       "Distance Quicktree vs rapidNJ                               78  \\\n",
       "\n",
       "                              1849_FG-GAP.phy.quicktree   \n",
       "Distance Quicktree vs rapidNJ                       282  \\\n",
       "\n",
       "                              214_Arena_glycoprot.phy.quicktree   \n",
       "Distance Quicktree vs rapidNJ                                56  \\\n",
       "\n",
       "                              304_A1_Propeptide.phy.quicktree   \n",
       "Distance Quicktree vs rapidNJ                              80  \\\n",
       "\n",
       "                              401_DDE.phy.quicktree   \n",
       "Distance Quicktree vs rapidNJ                   100  \\\n",
       "\n",
       "                              494_Astro_capsid.phy.quicktree   \n",
       "Distance Quicktree vs rapidNJ                            532  \\\n",
       "\n",
       "                              608_Gemini_AL2.phy.quicktree   \n",
       "Distance Quicktree vs rapidNJ                           20  \\\n",
       "\n",
       "                              777_Gemini_V1.phy.quicktree   \n",
       "Distance Quicktree vs rapidNJ                         494  \\\n",
       "\n",
       "                              877_Glu_synthase.phy.quicktree   \n",
       "Distance Quicktree vs rapidNJ                             56  \\\n",
       "\n",
       "                              89_Adeno_E3_CR1.phy.quicktree  \n",
       "Distance Quicktree vs rapidNJ                            32  "
      ]
     },
     "execution_count": 90,
     "metadata": {},
     "output_type": "execute_result"
    }
   ],
   "source": [
    "results = pd.DataFrame(columns = trees_quicktree.keys())\n",
    "for name, t in trees_quicktree.items():\n",
    "    name_ = name[:-10]+'.rapidnj'\n",
    "    results.loc[\"Distance Quicktree vs rapidNJ\",name] = get_rf_distance(t,trees_rapidnj[name_])\n",
    "results"
   ]
  }
 ],
 "metadata": {
  "kernelspec": {
   "display_name": "base",
   "language": "python",
   "name": "python3"
  },
  "language_info": {
   "codemirror_mode": {
    "name": "ipython",
    "version": 3
   },
   "file_extension": ".py",
   "mimetype": "text/x-python",
   "name": "python",
   "nbconvert_exporter": "python",
   "pygments_lexer": "ipython3",
   "version": "3.9.16"
  },
  "orig_nbformat": 4
 },
 "nbformat": 4,
 "nbformat_minor": 2
}
