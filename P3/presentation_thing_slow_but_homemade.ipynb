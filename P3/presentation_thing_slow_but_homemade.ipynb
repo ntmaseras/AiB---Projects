{
 "cells": [
  {
   "cell_type": "code",
   "execution_count": 12,
   "metadata": {},
   "outputs": [],
   "source": [
    "import numpy as np"
   ]
  },
  {
   "cell_type": "code",
   "execution_count": 41,
   "metadata": {},
   "outputs": [
    {
     "name": "stdout",
     "output_type": "stream",
     "text": [
      "[['A', 'A', 'A', 'A', 'A', 'A', 'A', 'A', 'A', 'A', 'T', 'T', 'A', 'T', 'A', 'T', 'A', 'T', 'A', 'T', 'A', 'T', '-', '-', '-', '-', '-', '-', '-'], ['A', 'G', 'G', 'T', 'G', 'T', 'G', 'T', 'G', '-', 'T', 'G', '-', 'T', 'G', 'T', 'G', 'T', 'G', 'T', 'A', '-', '-', '-', '-', '-', '-', '-', '-'], ['A', 'T', 'T', 'C', 'T', 'C', 'T', 'C', 'C', 'T', 'C', 'T', 'C', 'T', 'C', 'T', 'C', 'C', 'T', 'G', 'G', 'T', 'G', 'T', 'T', '-', '-', '-', '-'], ['A', 'A', 'G', 'A', 'G', 'A', 'G', 'T', 'G', 'A', 'G', 'A', '-', 'T', 'G', 'A', 'T', 'G', '-', 'T', 'A', 'G', 'T', 'G', 'A', 'T', 'G', 'A', 'G']]\n"
     ]
    }
   ],
   "source": [
    "substitution_matrix ={'A': {'A': 0, 'C': 5, 'G': 5, 'T': 5, '*': 5}, \n",
    "                    'C': {'A': 5, 'C': 0, 'G': 5, 'T': 2, '*': 5}, \n",
    "                    'G': {'A': 2, 'C': 5, 'G': 0, 'T': 5, '*': 5}, \n",
    "                    'T': {'A': 5, 'C': 2, 'G': 5, 'T': 0, '*': 5},\n",
    "                    '-': {'A': 5, 'C': 5, 'G': 5, 'T': 5, '*': 5},\n",
    "                    '*': {'A': 5, 'C': 5, 'G': 5, 'T': 5, '*': 5}}\n",
    "\n",
    "def backtrack(seq1,seq2, gapcost,M):\n",
    "    alignment1, alignment2 = \"\", \"\"\n",
    "    i, j = len(seq1), len(seq2)\n",
    "    while i > 0 or j > 0:\n",
    "        if i > 0 and M[i][j] == M[i-1][j] + gapcost:\n",
    "            alignment1 = seq1[i-1] + alignment1\n",
    "            alignment2 = \"-\" + alignment2\n",
    "            i -= 1\n",
    "        elif j > 0 and M[i][j] == M[i][j-1] + gapcost:\n",
    "            alignment1 = \"-\" + alignment1\n",
    "            alignment2 = seq2[j-1] + alignment2\n",
    "            j -= 1\n",
    "        else:\n",
    "            alignment1 = seq1[i-1] + alignment1\n",
    "            alignment2 = seq2[j-1] + alignment2\n",
    "            i -= 1\n",
    "            j -= 1\n",
    "    return alignment1, alignment2\n",
    "\n",
    "\n",
    "def pariwise_alignment(seq1, seq2,subst_matrix,gap_penalty):\n",
    "    # Initialize the matrix with zeros\n",
    "    M = [[0] * (len(seq2) + 1) for i in range(len(seq1) + 1)]\n",
    "    # Initialize the first row and column\n",
    "    for i in range(1, len(seq1) + 1):\n",
    "        M[i][0] = M[i-1][0] + gap_penalty\n",
    "    for j in range(1, len(seq2) + 1):\n",
    "        M[0][j] = M[0][j-1] + gap_penalty\n",
    "    for i in range(1, len(seq1) + 1):\n",
    "        for j in range(1, len(seq2) + 1):\n",
    "            match_score = M[i-1][j-1] + subst_matrix[seq1[i-1]][seq2[j-1]]\n",
    "            delete_score = M[i-1][j] + gap_penalty\n",
    "            insert_score = M[i][j-1] + gap_penalty\n",
    "            M[i][j] = min(match_score, delete_score, insert_score)\n",
    "    return M\n",
    "\n",
    "def reference_alignment(seq1, seq2):\n",
    "    ref_alignment = ''\n",
    "    for a, b in zip(seq1, seq2):\n",
    "        if a == '-' and b != '-':\n",
    "            ref_alignment += b\n",
    "        elif a != '-' and b == '-':\n",
    "            ref_alignment += a\n",
    "        elif a == b:\n",
    "            ref_alignment += a\n",
    "        else:\n",
    "            ref_alignment += '*'\n",
    "    # Handle any remaining nucleotides in the longer sequence\n",
    "    if len(seq1) > len(seq2):\n",
    "        ref_alignment += seq1[len(seq2):].replace('-', '')\n",
    "    elif len(seq2) > len(seq1):\n",
    "        ref_alignment += seq2[len(seq1):].replace('-', '')\n",
    "    \n",
    "    return ref_alignment\n",
    "\n",
    "def add_row(matrix, new_row):\n",
    "    # Determine the length of the new row\n",
    "    new_row_length = len(new_row)\n",
    "    # Determine the length of the existing rows\n",
    "    existing_row_lengths = [len(row) for row in matrix]\n",
    "    max_row_length = max(existing_row_lengths)\n",
    "    # If the new row is shorter than the longest existing row, add dashes to the end\n",
    "    if new_row_length < max_row_length:\n",
    "        new_row += '-' * (max_row_length - new_row_length)\n",
    "    # If the new row is longer than the longest existing row, add dashes to the end of all existing rows\n",
    "    if new_row_length > max_row_length:\n",
    "        for i in range(len(matrix)):\n",
    "            matrix[i] += '-' * (new_row_length - max_row_length)\n",
    "    matrix.append(new_row)\n",
    "    return matrix\n",
    "\n",
    "def capibara_slow_af_alignement(list_of_seqs,substitution_matrix,gapcost):\n",
    "    #initialization\n",
    "    M = pariwise_alignment(list_of_seqs[0],list_of_seqs[1],substitution_matrix,gapcost)\n",
    "    v_aligned, w_aligned = backtrack(list_of_seqs[0], list_of_seqs[1], gapcost, M)\n",
    "    ref_alignment = reference_alignment(v_aligned, w_aligned)\n",
    "    matrix = [[i for i in v_aligned],[i for i in w_aligned]]\n",
    "    #iterate over the list of sequences from 2 to the end\n",
    "    for i in range(2,len(list_of_seqs)):\n",
    "        # compute the pairwise alignment matrix between the reference alignment and the current sequence\n",
    "        temp = pariwise_alignment(list_of_seqs[i],ref_alignment,substitution_matrix,gapcost)\n",
    "        # compute the alignment between the current sequence and the reference alignment\n",
    "        v_aligned, w_aligned = backtrack(list_of_seqs[i], ref_alignment, gapcost, temp)\n",
    "        # update the reference alignment\n",
    "        ref_alignment = reference_alignment(v_aligned, w_aligned)\n",
    "        # update the matrix\n",
    "        new_row = [i for i in v_aligned]\n",
    "        add_row(matrix,new_row)\n",
    "    return matrix\n",
    "\n",
    "test_list = ['AAAAAAAAAATTATATATATAT','AGGTGTGTGTGTGTGTGTA', 'ATTCTCTCCTCTCTCTCCTGGTGTT','AAGAGAGTGAGATGATGTAGTGATGAG']\n",
    "print(capibara_slow_af_alignement(test_list,substitution_matrix,5))\n",
    "\n"
   ]
  },
  {
   "cell_type": "code",
   "execution_count": 42,
   "metadata": {},
   "outputs": [
    {
     "name": "stdout",
     "output_type": "stream",
     "text": [
      "[['-', '-', '-', 'A', 'G', 'T', 'A', 'C', 'C', 'G', 'G', 'A', 'T', 'C', 'C', 'T', 'A', 'C', 'G', 'A', 'G', 'G', 'T', '-', 'T', 'A', '-', 'G', 'C', 'G', 'G', 'C', 'T', 'A', 'G', 'G', 'G', 'A', 'A', 'A', 'G', 'T', 'A', 'C', 'G', 'A', 'G', 'C', 'C', 'A', 'T', 'C', 'C', 'T', 'T', 'G', '-', 'G', 'A', 'T', 'G', 'T', 'G', 'G', 'T', 'G', 'A', 'G', 'C', 'C', 'G', 'C', 'G', '-', 'A', 'G', 'C', 'G', 'C', 'T', 'G', 'C', 'G', 'A', 'G', 'C', 'T', 'G', 'C', 'G', 'A', 'G', 'A', 'C', 'C', 'T', 'C', 'G', 'T', 'G', 'A', 'G', 'C', 'G', 'C', 'G', 'C', 'G', 'G', 'C', 'G', 'C', 'G', 'C', 'G', 'C', 'G', 'C', 'G', 'C', 'G', 'C', 'G', 'C', 'G', 'C', 'G', 'C', 'G', 'C', 'G', 'C', 'G', 'C', 'G', 'C', 'G', 'C', 'G', 'C', 'G', 'C', 'G', 'C', 'G', 'C', 'G', 'C', 'G', 'C', 'G', 'C', 'G', 'C', 'G', 'C', 'G', 'C', 'G', 'C', 'G', 'C', 'G', 'C', 'G', 'C', 'G', 'C', 'G', 'C', 'G', 'C', 'G', 'C', 'G', 'C', 'G', 'C', 'G', 'C', 'G', 'C', 'G', 'C', 'G', 'C', 'G', 'C', 'G', 'C', 'G', 'C', 'G', 'C', 'G', 'C', 'G', 'C', 'G', 'C', 'G', 'C', 'G', 'C', 'G', 'C', 'G', 'C', 'G', 'C', 'G', 'C', 'G', 'C', 'G', 'C', 'G', 'C', 'G', 'C', 'G', 'C', 'G', 'C', 'G', 'C', 'G', 'C', 'G', 'C', 'G', 'C', 'G', 'C', 'G', 'C', 'G', 'C', 'G', 'C', 'G', 'C', 'G', 'C', 'G', 'C', 'G', 'C', 'G', 'C', 'G', 'C', 'G', 'C', 'G', 'C', 'G', 'C', 'G', 'C', 'G', 'C', 'G', 'C', 'G', 'C', 'G', 'C', 'G', 'C', 'G', 'C', 'G', 'C', 'G', 'C', 'G', 'C', 'G', 'C', 'G', 'C', 'G', 'C', 'G', 'C', 'G', 'C', 'G', 'C', 'G', 'C', 'G', 'C', 'G', 'C', 'G', 'C', 'G', 'C', 'G', 'C', 'G', 'C', 'G', 'C', 'G', 'C', 'G', 'C', 'G', 'C', 'G', 'C', 'G', 'C', 'G', 'C', 'G', 'C', 'G', 'C', 'G', 'C', 'G', 'C', 'G', 'C', 'G', 'C', 'G', 'C', 'G', 'C', 'G', 'C', 'G', 'C', 'G', 'C', 'G', 'C', 'G', 'C', 'G', 'C', 'G', 'C', 'G', 'C', 'G', 'C', 'G', 'C', 'G', 'C', 'G', 'C', 'G', 'A', '-', '-', '-', '-', '-', '-', '-'], ['T', 'C', 'G', 'A', 'G', 'G', 'G', 'G', 'C', 'G', 'G', 'G', 'G', 'G', 'T', 'T', '-', 'C', 'G', 'A', 'G', 'C', 'C', 'C', 'T', 'G', 'T', 'G', 'C', 'A', 'G', 'C', 'T', 'T', 'G', 'G', 'C', 'A', 'G', '-', 'G', 'T', 'T', 'T', 'C', 'A', 'G', 'G', 'G', 'A', 'T', 'C', 'T', 'A', 'G', 'G', 'C', 'G', 'A', 'T', 'T', 'T', 'T', 'C', 'C', '-', 'A', 'C', 'C', 'C', 'G', 'G', 'G', 'T', 'A', 'G', 'G', 'A', 'C', 'C', 'G', '-', 'G', 'C', 'G', 'T', 'C', 'T', 'C', 'C', 'A', 'G', '-', 'T', 'A', 'C', 'C', 'G', 'T', 'G', 'C', 'T', 'C', 'G', 'C', 'G', 'C', 'G', '-', 'C', 'G', 'C', 'G', 'C', 'G', 'C', 'G', 'C', 'G', 'C', 'G', 'C', 'G', 'C', 'G', 'C', 'G', 'C', 'G', 'C', 'G', 'C', 'G', 'C', 'G', 'C', 'G', 'C', 'G', 'C', 'G', 'C', 'G', 'C', 'G', 'C', 'G', 'C', 'G', 'C', 'G', 'C', 'G', 'C', 'G', 'C', 'G', 'C', 'G', 'C', 'G', 'C', 'G', 'C', 'G', 'C', 'G', 'C', 'G', 'C', 'G', 'C', 'G', 'C', 'G', 'C', 'G', 'C', 'G', 'C', 'G', 'C', 'G', 'C', 'G', 'C', 'G', 'C', 'G', 'C', 'G', 'C', 'G', 'C', 'G', 'C', 'G', 'C', 'G', 'C', 'G', 'C', 'G', 'C', 'G', 'C', 'G', 'C', 'G', 'C', 'G', 'C', 'G', 'C', 'G', 'C', 'G', 'C', 'G', 'C', 'G', 'C', 'G', 'C', 'G', 'C', 'G', 'C', 'G', 'C', 'G', 'C', 'G', 'C', 'G', 'C', 'G', 'C', 'G', 'C', 'G', 'C', 'G', 'C', 'G', 'C', 'G', 'C', 'G', 'C', 'G', 'C', 'G', 'C', 'G', 'C', 'G', 'C', 'G', 'C', 'G', 'C', 'G', 'C', 'G', 'C', 'G', 'C', 'G', 'C', 'G', 'C', 'G', 'C', 'G', 'C', 'G', 'C', 'G', 'C', 'G', 'C', 'G', 'C', 'G', 'C', 'G', 'C', 'G', 'C', 'G', 'C', 'G', 'C', 'G', 'C', 'G', 'C', 'G', 'C', 'G', 'C', 'G', 'C', 'G', 'C', 'G', 'C', 'G', 'C', 'G', 'C', 'G', 'C', 'G', 'C', 'G', 'C', 'G', 'C', 'G', 'C', 'G', 'C', 'G', 'C', 'G', 'C', 'G', 'C', 'G', 'C', 'G', 'C', 'G', 'C', 'G', 'C', 'G', 'C', 'G', 'C', 'G', 'C', 'G', 'C', 'G', 'C', 'G', 'C', 'G', 'C', 'G', 'C', 'G', 'C', 'G', 'C', 'G', 'C', '-', '-', '-', '-', '-', '-', '-'], ['G', 'C', 'T', 'C', 'C', 'T', 'C', '-', 'C', 'G', 'G', 'G', 'C', 'A', 'G', 'T', 'G', 'A', 'G', 'G', 'T', 'A', 'C', 'C', 'T', '-', 'T', 'G', 'A', '-', 'G', 'C', 'T', '-', 'G', 'A', 'T', 'G', 'C', 'G', 'C', 'G', 'C', 'G', 'C', 'G', 'C', 'G', 'C', '-', 'G', 'C', 'G', 'C', 'G', 'C', '-', 'G', 'C', 'G', '-', 'C', 'G', 'C', 'G', 'C', '-', 'G', 'C', 'G', 'C', 'G', 'C', 'G', 'C', 'G', 'C', 'G', 'C', 'G', 'C', 'G', 'C', '-', 'G', 'C', 'G', 'C', 'G', 'C', 'G', '-', 'C', 'G', 'C', 'G', 'C', 'G', 'C', 'G', 'C', 'G', 'C', 'G', 'C', 'G', 'C', 'G', 'C', 'G', 'C', 'G', 'C', 'G', 'C', 'G', 'C', 'G', 'C', 'G', 'C', 'G', 'C', 'G', 'C', 'G', 'C', 'G', 'C', 'G', 'C', 'G', 'C', 'G', 'C', 'G', 'C', 'G', 'C', 'G', 'C', 'G', 'C', 'G', 'C', 'G', 'C', 'G', 'C', 'G', 'C', 'G', 'C', 'G', 'C', 'G', 'C', 'G', 'C', 'G', 'C', 'G', 'C', 'G', 'C', 'G', 'C', 'G', 'C', 'G', 'C', 'G', 'C', 'G', 'C', 'G', 'C', 'G', 'C', 'G', 'C', 'G', 'C', 'G', 'C', 'G', 'C', 'G', 'C', 'G', 'C', 'G', 'C', 'G', 'C', 'G', 'C', 'G', 'C', 'G', 'C', 'G', 'C', 'G', 'C', 'G', 'C', 'G', 'C', 'G', 'C', 'G', 'C', 'G', 'C', 'G', 'C', 'G', 'C', 'G', 'C', 'G', 'C', 'G', 'C', 'G', 'C', 'G', 'C', 'G', 'C', 'G', 'C', 'G', 'C', 'G', 'C', 'G', 'C', 'G', 'C', 'G', 'C', 'G', 'C', 'G', 'C', 'G', 'C', 'G', 'C', 'G', 'C', 'G', 'C', 'G', 'C', 'G', 'C', 'G', 'C', 'G', 'C', 'G', 'C', 'G', 'C', 'G', 'C', 'G', 'C', 'G', 'C', 'G', 'C', 'G', 'C', 'G', 'C', 'G', 'C', 'G', 'C', 'G', 'C', 'G', 'C', 'G', 'C', 'G', 'C', 'G', 'C', 'G', 'C', 'G', 'C', 'G', 'C', 'G', 'C', 'G', 'C', 'G', 'C', 'G', 'C', 'G', 'C', 'G', 'C', 'G', 'C', 'G', 'C', 'G', 'C', 'G', 'C', 'G', 'C', 'G', 'C', 'G', 'C', 'G', 'C', 'G', 'C', 'G', 'C', 'G', 'C', 'G', 'C', 'G', 'C', 'G', 'C', 'G', 'C', 'G', 'C', 'G', 'C', 'G', 'C', 'G', 'C', 'G', 'C', 'G', 'C', 'G', 'C', 'G', 'C', 'G', 'C', 'G', 'C', 'G', 'C', 'G', 'C', '-', '-'], ['G', 'T', 'C', 'C', 'G', 'T', 'C', 'A', 'T', 'C', 'G', 'C', 'T', 'G', 'G', 'C', 'A', 'C', 'G', 'T', 'A', 'T', '-', 'C', 'T', 'C', 'C', 'A', '-', '-', 'G', 'C', 'T', '-', 'G', 'A', 'G', 'G', 'G', 'T', 'C', 'G', 'C', 'G', 'A', 'G', 'G', 'G', 'A', 'C', 'G', '-', 'G', 'A', 'A', 'C', '-', '-', 'C', 'G', 'G', 'C', 'T', 'C', '-', '-', '-', 'G', 'C', 'C', 'C', 'G', '-', 'G', '-', 'G', 'C', 'C', 'T', 'G', 'G', 'T', 'C', '-', 'G', 'T', 'G', 'G', 'G', 'T', 'T', 'A', 'T', 'A', 'G', 'C', 'G', 'C', 'G', 'C', 'G', 'C', 'G', 'C', 'G', 'C', 'G', 'C', 'G', 'C', 'G', 'C', 'G', 'C', 'G', 'C', 'G', 'C', 'G', 'C', 'G', 'C', 'G', 'C', 'G', 'C', 'G', 'C', 'G', 'C', 'G', 'C', 'G', 'C', 'G', 'C', 'G', 'C', 'G', 'C', 'G', 'C', 'G', 'C', 'G', 'C', 'G', 'C', 'G', 'C', 'G', 'C', 'G', 'C', 'G', 'C', 'G', 'C', 'G', 'C', 'G', 'C', 'G', 'C', 'G', 'C', 'G', 'C', 'G', 'C', 'G', 'C', 'G', 'C', 'G', 'C', 'G', 'C', 'G', 'C', 'G', 'C', 'G', 'C', 'G', 'C', 'G', 'C', 'G', 'C', 'G', 'C', 'G', 'C', 'G', 'C', 'G', 'C', 'G', 'C', 'G', 'C', 'G', 'C', 'G', 'C', 'G', 'C', 'G', 'C', 'G', 'C', 'G', 'C', 'G', 'C', 'G', 'C', 'G', 'C', 'G', 'C', 'G', 'C', 'G', 'C', 'G', 'C', 'G', 'C', 'G', 'C', 'G', 'C', 'G', 'C', 'G', 'C', 'G', 'C', 'G', 'C', 'G', 'C', 'G', 'C', 'G', 'C', 'G', 'C', 'G', 'C', 'G', 'C', 'G', 'C', 'G', 'C', 'G', 'C', 'G', 'C', 'G', 'C', 'G', 'C', 'G', 'C', 'G', 'C', 'G', 'C', 'G', 'C', 'G', 'C', 'G', 'C', 'G', 'C', 'G', 'C', 'G', 'C', 'G', 'C', 'G', 'C', 'G', 'C', 'G', 'C', 'G', 'C', 'G', 'C', 'G', 'C', 'G', 'C', 'G', 'C', 'G', 'C', 'G', 'C', 'G', 'C', 'G', 'C', 'G', 'C', 'G', 'C', 'G', 'C', 'G', 'C', 'G', 'C', 'G', 'C', 'G', 'C', 'G', 'C', 'G', 'C', 'G', 'C', 'G', 'C', 'G', 'C', 'G', 'C', 'G', 'C', 'G', 'C', 'G', 'C', 'G', 'C', 'G', 'C', 'G', 'C', 'G', 'C', 'G', 'C', 'G', 'C', 'G', 'C', 'G', 'C', 'G', 'C', 'G', 'C', 'G', 'C', 'G', 'C', 'G']]\n"
     ]
    }
   ],
   "source": [
    "\n"
   ]
  }
 ],
 "metadata": {
  "kernelspec": {
   "display_name": "base",
   "language": "python",
   "name": "python3"
  },
  "language_info": {
   "codemirror_mode": {
    "name": "ipython",
    "version": 3
   },
   "file_extension": ".py",
   "mimetype": "text/x-python",
   "name": "python",
   "nbconvert_exporter": "python",
   "pygments_lexer": "ipython3",
   "version": "3.9.13"
  },
  "orig_nbformat": 4
 },
 "nbformat": 4,
 "nbformat_minor": 2
}
