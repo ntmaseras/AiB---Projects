{
 "cells": [
  {
   "cell_type": "code",
   "execution_count": 2,
   "metadata": {},
   "outputs": [],
   "source": [
    "from alignment import *\n",
    "from parsing import parse_matrix_and_gap_cost_in_subst_matrix,read_n_fasta\n",
    "from msa_sp_score_3k import compute_sp_score\n",
    "import os"
   ]
  },
  {
   "cell_type": "code",
   "execution_count": 3,
   "metadata": {},
   "outputs": [],
   "source": [
    "matrix_path = 'input/subst_matrix.txt'\n",
    "substitution_matrix = parse_matrix_and_gap_cost_in_subst_matrix(matrix_path)"
   ]
  },
  {
   "attachments": {},
   "cell_type": "markdown",
   "metadata": {},
   "source": [
    "Read and align the sequences from 1-3 to 1-6."
   ]
  },
  {
   "cell_type": "code",
   "execution_count": 7,
   "metadata": {},
   "outputs": [],
   "source": [
    "list_of_seq = read_n_fasta('experiments/brca1-testseqs.fasta',6)\n",
    "results = []\n",
    "for i in [3,4,5,6]:\n",
    "        ########## algorithm \n",
    "        M = two_approx_algorithm_for_MSA(list_of_seq[:i], substitution_matrix) ## approx \n",
    "        alignment_approx_outputfile = 'presentation/aligned_' + str(i)\n",
    "        approx_alignment = print_alignment(M,alignment_approx_outputfile) ## print alignment to file\n",
    "    "
   ]
  },
  {
   "attachments": {},
   "cell_type": "markdown",
   "metadata": {},
   "source": [
    "Compute scores from alignments:"
   ]
  },
  {
   "cell_type": "code",
   "execution_count": 9,
   "metadata": {},
   "outputs": [
    {
     "name": "stdout",
     "output_type": "stream",
     "text": [
      "The optimal score is in seqs 1 - 3 : 792\n",
      "The optimal score is in seqs 1 - 4 : 2345\n",
      "The optimal score is in seqs 1 - 5 : 3295\n",
      "The optimal score is in seqs 1 - 6 : 6005\n"
     ]
    }
   ],
   "source": [
    "for i in [3,4,5,6]:\n",
    "    ####### approx\n",
    "    testfile = 'presentation/aligned_' + str(i)\n",
    "    if os.path.isfile(testfile):   \n",
    "        score = compute_sp_score(testfile)\n",
    "        print(\"The optimal score is in seqs 1 -\",i,\":\",score)"
   ]
  }
 ],
 "metadata": {
  "kernelspec": {
   "display_name": "base",
   "language": "python",
   "name": "python3"
  },
  "language_info": {
   "codemirror_mode": {
    "name": "ipython",
    "version": 3
   },
   "file_extension": ".py",
   "mimetype": "text/x-python",
   "name": "python",
   "nbconvert_exporter": "python",
   "pygments_lexer": "ipython3",
   "version": "3.9.16"
  },
  "orig_nbformat": 4
 },
 "nbformat": 4,
 "nbformat_minor": 2
}
