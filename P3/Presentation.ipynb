{
 "cells": [
  {
   "cell_type": "code",
   "execution_count": 50,
   "metadata": {},
   "outputs": [],
   "source": [
    "from alignment import *\n",
    "from parsing import parse_matrix_and_gap_cost_in_subst_matrix,read_n_fasta\n",
    "from msa_sp_score_3k import compute_sp_score\n",
    "import os"
   ]
  },
  {
   "cell_type": "code",
   "execution_count": 60,
   "metadata": {},
   "outputs": [],
   "source": [
    "substitution_matrix ={'A': {'A': 0, 'C': 5, 'G': 5, 'T': 5, '*': 5}, \n",
    "                    'C': {'A': 5, 'C': 0, 'G': 5, 'T': 2, '*': 5}, \n",
    "                    'G': {'A': 2, 'C': 5, 'G': 0, 'T': 5, '*': 5}, \n",
    "                    'T': {'A': 5, 'C': 2, 'G': 5, 'T': 0, '*': 5},\n",
    "                    '-': {'A': 5, 'C': 5, 'G': 5, 'T': 5, '*': 5},\n",
    "                    '*': {'A': 5, 'C': 5, 'G': 5, 'T': 5, '*': 5}}\n",
    "\n",
    "def backtrack(seq1,seq2, gapcost,M):\n",
    "    alignment1, alignment2 = \"\", \"\"\n",
    "    i, j = len(seq1), len(seq2)\n",
    "    while i > 0 or j > 0:\n",
    "        if i > 0 and M[i][j] == M[i-1][j] + gapcost:\n",
    "            alignment1 = seq1[i-1] + alignment1\n",
    "            alignment2 = \"-\" + alignment2\n",
    "            i -= 1\n",
    "        elif j > 0 and M[i][j] == M[i][j-1] + gapcost:\n",
    "            alignment1 = \"-\" + alignment1\n",
    "            alignment2 = seq2[j-1] + alignment2\n",
    "            j -= 1\n",
    "        else:\n",
    "            alignment1 = seq1[i-1] + alignment1\n",
    "            alignment2 = seq2[j-1] + alignment2\n",
    "            i -= 1\n",
    "            j -= 1\n",
    "    return alignment1, alignment2\n",
    "\n",
    "\n",
    "def pariwise_alignment(seq1, seq2,subst_matrix,gap_penalty):\n",
    "    # Initialize the matrix with zeros\n",
    "    M = [[0] * (len(seq2) + 1) for i in range(len(seq1) + 1)]\n",
    "    # Initialize the first row and column\n",
    "    for i in range(1, len(seq1) + 1):\n",
    "        M[i][0] = M[i-1][0] + gap_penalty\n",
    "    for j in range(1, len(seq2) + 1):\n",
    "        M[0][j] = M[0][j-1] + gap_penalty\n",
    "    for i in range(1, len(seq1) + 1):\n",
    "        for j in range(1, len(seq2) + 1):\n",
    "            match_score = M[i-1][j-1] + subst_matrix[seq1[i-1]][seq2[j-1]]\n",
    "            delete_score = M[i-1][j] + gap_penalty\n",
    "            insert_score = M[i][j-1] + gap_penalty\n",
    "            M[i][j] = min(match_score, delete_score, insert_score)\n",
    "    return M\n",
    "\n",
    "def reference_alignment(seq1, seq2):\n",
    "    ref_alignment = ''\n",
    "    for a, b in zip(seq1, seq2):\n",
    "        if a == '-' and b != '-':\n",
    "            ref_alignment += b\n",
    "        elif a != '-' and b == '-':\n",
    "            ref_alignment += a\n",
    "        elif a == b:\n",
    "            ref_alignment += a\n",
    "        else:\n",
    "            ref_alignment += '*'\n",
    "    # Handle any remaining nucleotides in the longer sequence\n",
    "    if len(seq1) > len(seq2):\n",
    "        ref_alignment += seq1[len(seq2):].replace('-', '')\n",
    "    elif len(seq2) > len(seq1):\n",
    "        ref_alignment += seq2[len(seq1):].replace('-', '')\n",
    "    \n",
    "    return ref_alignment\n",
    "\n",
    "def add_row(matrix, new_row):\n",
    "    # Determine the length of the new row\n",
    "    new_row_length = len(new_row)\n",
    "    # Determine the length of the existing rows\n",
    "    existing_row_lengths = [len(row) for row in matrix]\n",
    "    max_row_length = max(existing_row_lengths)\n",
    "    # If the new row is shorter than the longest existing row, add dashes to the end\n",
    "    if new_row_length < max_row_length:\n",
    "        new_row += '-' * (max_row_length - new_row_length)\n",
    "    # If the new row is longer than the longest existing row, add dashes to the end of all existing rows\n",
    "    if new_row_length > max_row_length:\n",
    "        for i in range(len(matrix)):\n",
    "            matrix[i] += '-' * (new_row_length - max_row_length)\n",
    "    matrix.append(new_row)\n",
    "    return matrix\n",
    "\n",
    "def capibara_slow_alignement(list_of_seqs,substitution_matrix,gapcost):\n",
    "    #initialization\n",
    "    M = pariwise_alignment(list_of_seqs[0],list_of_seqs[1],substitution_matrix,gapcost)\n",
    "    v_aligned, w_aligned = backtrack(list_of_seqs[0], list_of_seqs[1], gapcost, M)\n",
    "    ref_alignment = reference_alignment(v_aligned, w_aligned)\n",
    "    matrix = [[i for i in v_aligned],[i for i in w_aligned]]\n",
    "    #iterate over the list of sequences from 2 to the end\n",
    "    for i in range(2,len(list_of_seqs)):\n",
    "        # compute the pairwise alignment matrix between the reference alignment and the current sequence\n",
    "        print(\"Aligning pairwise: \",i)\n",
    "        temp = pariwise_alignment(list_of_seqs[i],ref_alignment,substitution_matrix,gapcost)\n",
    "        # compute the alignment between the current sequence and the reference alignment\n",
    "        v_aligned, w_aligned = backtrack(list_of_seqs[i], ref_alignment, gapcost, temp)\n",
    "        # update the reference alignment\n",
    "        ref_alignment = reference_alignment(v_aligned, w_aligned)\n",
    "        # update the matrix\n",
    "        new_row = [i for i in v_aligned]\n",
    "        add_row(matrix,new_row)\n",
    "    return matrix\n",
    "\n"
   ]
  },
  {
   "attachments": {},
   "cell_type": "markdown",
   "metadata": {},
   "source": [
    "Read and align the sequences from 1-3 to 1-6."
   ]
  },
  {
   "cell_type": "code",
   "execution_count": 52,
   "metadata": {},
   "outputs": [],
   "source": [
    "matrix_path = 'input/subst_matrix.txt'\n",
    "substitution_matrix_app = parse_matrix_and_gap_cost_in_subst_matrix(matrix_path)"
   ]
  },
  {
   "cell_type": "code",
   "execution_count": 54,
   "metadata": {},
   "outputs": [
    {
     "name": "stdout",
     "output_type": "stream",
     "text": [
      "CPU times: total: 438 ms\n",
      "Wall time: 535 ms\n"
     ]
    }
   ],
   "source": [
    "%%time\n",
    "list_of_seq = read_n_fasta('experiments/brca1-testseqs.fasta',6)\n",
    "results = []\n",
    "for i in [3,4,5,6]:\n",
    "        M = two_approx_algorithm_for_MSA(list_of_seq[:i], substitution_matrix_app)  ########## approx algorithm\n",
    "        alignment_approx_outputfile = 'presentation/approx/aligned_' + str(i)\n",
    "        approx_alignment = print_alignment(M,alignment_approx_outputfile) ## print alignment to file\n",
    "    "
   ]
  },
  {
   "attachments": {},
   "cell_type": "markdown",
   "metadata": {},
   "source": [
    "Compute scores from alignments:"
   ]
  },
  {
   "cell_type": "code",
   "execution_count": 55,
   "metadata": {},
   "outputs": [
    {
     "name": "stdout",
     "output_type": "stream",
     "text": [
      "The optimal score (approx) is in seqs 1 - 3 : 792\n",
      "The optimal score (approx) is in seqs 1 - 4 : 2345\n",
      "The optimal score (approx) is in seqs 1 - 5 : 3295\n",
      "The optimal score (approx) is in seqs 1 - 6 : 6005\n"
     ]
    }
   ],
   "source": [
    "for i in [3,4,5,6]:\n",
    "    ####### approx\n",
    "    testfile = 'presentation/approx/aligned_' + str(i)\n",
    "    if os.path.isfile(testfile):   \n",
    "        score = compute_sp_score(testfile)\n",
    "        print(\"The optimal score (approx) is in seqs 1 -\",i,\":\",score)"
   ]
  },
  {
   "attachments": {},
   "cell_type": "markdown",
   "metadata": {},
   "source": [
    "Now let's try with our algorithm:"
   ]
  },
  {
   "cell_type": "code",
   "execution_count": 59,
   "metadata": {},
   "outputs": [
    {
     "name": "stdout",
     "output_type": "stream",
     "text": [
      "CPU times: total: 328 ms\n",
      "Wall time: 520 ms\n"
     ]
    }
   ],
   "source": [
    "%%time\n",
    "for i in [3,4,5,6]:\n",
    "        M = capibara_slow_alignement(list_of_seq[:i],substitution_matrix,5)\n",
    "        alignment_approx_outputfile = 'presentation/capi/aligned_' + str(i)\n",
    "        approx_alignment = print_alignment(M,alignment_approx_outputfile) ## print alignment to file\n",
    "\n",
    "alignment_outputfile = 'presentation/full_aligned' \n",
    "aligned_seq = [''.join(i) for i in M] \n",
    "save_sequences_as_fasta(alignment_outputfile,aligned_seq,'')"
   ]
  },
  {
   "cell_type": "code",
   "execution_count": 57,
   "metadata": {},
   "outputs": [
    {
     "name": "stdout",
     "output_type": "stream",
     "text": [
      "The optimal score (capi) is in seqs 1 - 3 : 243492\n",
      "The optimal score (capi) is in seqs 1 - 4 : 369219\n",
      "The optimal score (capi) is in seqs 1 - 5 : 486774\n",
      "The optimal score (capi) is in seqs 1 - 6 : 602364\n"
     ]
    }
   ],
   "source": [
    "for i in [3,4,5,6]:\n",
    "    ####### approx\n",
    "    testfile = 'presentation/capi/aligned_' + str(i)\n",
    "    if os.path.isfile(testfile):   \n",
    "        score = compute_sp_score(testfile)\n",
    "        print(\"The optimal score (capi) is in seqs 1 -\",i,\":\",score)"
   ]
  },
  {
   "cell_type": "code",
   "execution_count": 5,
   "metadata": {},
   "outputs": [
    {
     "data": {
      "text/plain": [
       "8"
      ]
     },
     "execution_count": 5,
     "metadata": {},
     "output_type": "execute_result"
    }
   ],
   "source": [
    "seq_full = read_n_fasta('experiments/brca1-full.fasta')\n",
    "len(seq_full)"
   ]
  },
  {
   "attachments": {},
   "cell_type": "markdown",
   "metadata": {},
   "source": [
    "In a sequence, there are nucleotides that are not A,C,G or T"
   ]
  },
  {
   "cell_type": "code",
   "execution_count": 6,
   "metadata": {},
   "outputs": [
    {
     "name": "stdout",
     "output_type": "stream",
     "text": [
      "{'T', 'A', 'C', 'G'}\n",
      "{'T', 'A', 'C', 'G'}\n",
      "{'T', 'A', 'C', 'G'}\n",
      "{'T', 'A', 'C', 'G'}\n",
      "{'T', 'A', 'C', 'G'}\n",
      "{'T', 'A', 'C', 'G'}\n",
      "{'T', 'A', 'C', 'G'}\n",
      "{'T', 'S', 'C', 'G', 'R', 'N', 'A'}\n"
     ]
    }
   ],
   "source": [
    "for seq in seq_full:\n",
    "    print(set(seq))"
   ]
  },
  {
   "cell_type": "code",
   "execution_count": 7,
   "metadata": {},
   "outputs": [
    {
     "name": "stdout",
     "output_type": "stream",
     "text": [
      "{'T', 'A', 'C', 'G'}\n",
      "{'T', 'A', 'C', 'G'}\n",
      "{'T', 'A', 'C', 'G'}\n",
      "{'T', 'A', 'C', 'G'}\n",
      "{'T', 'A', 'C', 'G'}\n",
      "{'T', 'A', 'C', 'G'}\n",
      "{'T', 'A', 'C', 'G'}\n",
      "{'T', 'A', 'C', 'G'}\n"
     ]
    }
   ],
   "source": [
    "import random\n",
    "# Replace 'N', 'R' or 'S' with a random nucleotide\n",
    "clean_seq_full = []\n",
    "for sequence in seq_full:\n",
    "    replaced_sequence = ''\n",
    "    for nucleotide in sequence:\n",
    "        if nucleotide == 'N' or nucleotide == 'R' or nucleotide == 'S' :\n",
    "            replaced_sequence += random.choice(['A', 'C', 'T', 'G'])\n",
    "        else:\n",
    "            replaced_sequence += nucleotide\n",
    "    clean_seq_full.append(replaced_sequence)\n",
    "\n",
    "for seq in clean_seq_full:\n",
    "    print(set(seq))"
   ]
  },
  {
   "attachments": {},
   "cell_type": "markdown",
   "metadata": {},
   "source": [
    "Align the 8 sequences:"
   ]
  },
  {
   "cell_type": "code",
   "execution_count": 33,
   "metadata": {},
   "outputs": [
    {
     "data": {
      "text/plain": [
       "['ATGGATTTATCTGCGGATCATGTTGAAGAAGTACAAAATGTCCTCAATGCTATGCAGAAAATCTTAGAGTGTCCAATATGTCTGGAGTTGATCAAAGAGCCTGTCTCTACAAAGTGTGACCACATATTTTGCAAATTTTGTATGCTGAAACTTCTCAACCAGAAGAAAGGGCCTTCACAATGTCCTTTGTGTAAGAATGATATAACCAAAAGAAGCCTACAAGAAAGTACAAGATTTAGTCAACTTGTTGAAGAGCTGTTGAAGATCATTCATGCTTTTGAGCTTGACACAGGATTGCAGTTTGCAAACAGCTATAACTTTTCGAGAAAGGAAGATAACTCTCCTGAGCATCTGAAGGAGGAAGTTTCTATAATCCAAAGTATGGGCTACCGGAACCGGGCCAAAAGACTTTGGCAGAGTGAACCTGAAAATCCTACCTTGCAGGAAACCAGTCTTACTGTCGAACTCTCTAACCTTGGAATTGTCAGATCTCTGAGGACAAAGCAGCAGACACAATCTCAGAATAAGTCCGTCTACATTGAATTGGGATCTGATTCTTCTGAAGACACAGTTAATAAGGCCAGTTATTTCAGTGTGGGAGACCATGAATTGTTAGAAATCACCCCTCAAGGAGCCAAGGCCAAGACCAATTTGAATCCTGCAGAAAAGGCTGCTTGTGAGTTTTCTGAGAAGGACATAACAAATACTGAACATCATCAACTCAGTATTAAAGATCTGATCACCACCCAGAAGCATGCAACTGAGACGCATCCAGAAAAGTATCAGGGTATTTCTGTTTCAGACTTTCACGTGGAGCCATGTGGCACAGATACTCATGCCAGCTCATTACAGCATGAGAACAGCAGTTTATTGCTCACTGAAAACAGACTGAATGTAGAAAAGGCTGAATTCTGTAATAAAAGCAAACAGCCTGTCTTAGTAAAGAGCCAGCAGAGCAGATGGGCTGAAAGTAAGGGCACATGTAAGGATAGGCAGATTC',\n",
       " 'ATGGATTTATCTGCGGATCGTGTTGAAGAAGTACAAAATGTTCTTAATGCTATGCAGAAAATCTTAGAGTGTCCAATATGTCTGGAGTTGATCAAAGAGCCTGTTTCTACAAAGTGTGATCACATATTTTGCAAATTTTGTATGCTGAAACTTCTCAACCAGAGGAAGGGGCCTTCACAGTGTCCTTTGTGTAAGAACGATATAACCAAAAGGAGCCTACAAGAAAGTACAAGATTTAGTCAACTTGTTGAAGAGTTGTTGAAAATCATTCATGCTTTTGAGCTGGACACAGGATTGCAGTTTGCAGACAGCTATAACTTTTCCAAAAAGGAAAATAACTCTCCTGAGCATCTAAAGGAGGAAGTTTCTATTATCCAAAGTATGGGCTATCGAAACCGTGCCAAAAGACTTCGACAGAGTGAACCTGAAAACCCTACCTTGGAAACCAGTCTTAGTGTCCAACTCTCTAACCTTGGAATTGTGAGATCTCTGAGGACAAAGCAGCAGATACAGCCTCAGAATAAGTCTGTCTACATTGAATTGGGGTCTGATTCTTCTGAAGATACAGTTAATAAGGCAAGTTCTTGCAGTGTGGGAGATGACGAGTTAGAAATCACCTCTCAAGGAGCCAGGGCTGAAGCCAGTTTGAATCCTGCAAAAAAGGCTGCTTGTGAATTTTCTGGGGACATAACAAATATTGAACATCATCAATCCAGTAATAAAGATTTGACCACCACTGAGAAGCATGCAACTAAGAAGCATCCAGAAAAGTATCAGGGTATTTCTGTTTCAAACTTGCATGTGGAGCCATGTGGCACAAATACTCATGCCAGCTCATTACAGCATGAGAACAGCAGTTTATTACTCACTAAACACAGAATGAATGTAGAAAAGGCTGAAATCTGTAATAACAGCAAACAGCCTGGCTTAGCAAGGAGCCAACAGAGCAGATGGGCTGAAAGTAAGGAAACATGTAATGATAGGCAGATTCCCAGCACAG',\n",
       " 'GCGAAATGTAACACGGTAGAGGTGATCGGGGTGCGTTATACGTGCGTGGTGACCTCGGTCGGTGTTGACGGTGCCTGGGGTTCCTCAGAGTGTTTTGGGGTCTGAAGGATGGACTTGTCAGTGATTGCCATTGGAGACGTGCAAAATGTGCTTTCAGCCATGCAGAAGAACTTGGAGTGTCCAGTCTGTTTAGATGTGATAAAAGAGCCGGTTTCAACAAAATGTGATCACGTATTCTGCAGATTCTGTATGTTTAAACTTCTCAGCAGAAAGAAAAAAGGTGTAATACAGTGCCCTCTGTGTAAGACTGAAGTTACCAAGAGAAGTCTCAAAGAAAATTCCAGATTTAAGCAGCTAATTGAAGGATTGTTGGAAGCTATCAGTGCGTTTGAGCTTGATACTGGAGTAAAATTTTTAAGCAGTCGTTATTTTCCTAAAACATCCACAGAAGTTGCTACTGCTGAGCTCCTGGGTAATAACAGTTCTGTCATCCAGAGTAAGGGTTTCAGAAACAGGAAAAGAGGCGCTAAAGAAAATAGACAAGACAGCTGTACCTTGGAAGCTAATGTGGATCCACAGCTTACAGACAACAGGGTCAAAGGGTCTTCTGTAAGAAGTAAAAAACAGAAATGTGGCATTGAAAAAGGTGTACTTATAGAGCTTGGCACTGATTCATCTGAGGAGCATTTTATACTGGCAAGCAGTACTGGGTTAGAAGACAAAGAAGAGCTAGAAGAACCTAAGAGTGCTGAGAAGTATGGAAGTTCTTGCAATACACAGCCACTCAAGCTAGGTGCTAAAGAAATAATTTTACCAAATGTCATAGGTGAAACTGATTTCTTGAAGGAAGCTTTGGACAAGAAAAGCATGCTGAACATCACTGAACACATCAAATGTAACCAAGTAAATACAATTGAGGGCCAGAGTTCTCCTTTAAATGTTTTTGATGCGGACCTACTCACAGGGCAGCGTGATGGAATAGGTAATGCCAGTCCCTTAA',\n",
       " 'GTACCTTGATTTCGTATTCTGAGAGGCTGCTGCTTAGCGGTAGCCCCTTGGTTTCCGTGGCAACGGAAAAGCGCGGGAATTACAGATAAATTAAAACTGCGACTGCGCGGCGTGAGCTCGCTGAGACTTCCTGGACGGGGGACAGGCTGTGGGGTTTCTCAGATAACTGGGCCCCTGCGCTCAGGAGGCCTTCACCCTCTGCTCTGGGTAAAGTTCATTGGAACAGAAAGAAATGGATTTATCTGCTCTTCGCGTTGAAGAAGTACAAAATGTCATTAATGCTATGCAGAAAATCTTAGAGTGTCCCATCTGTCTGGAGTTGATCAAGGAACCTGTCTCCACAAAGTGTGACCACATATTTTGCAAATTTTGCATGCTGAAACTTCTCAACCAGAAGAAAGGGCCTTCACAGTGTCCTTTATGTAAGAATGATATAACCAAAAGGAGCCTACAAGAAAGTACGAGATTTAGTCAACTTGTTGAAGAGCTATTGAAAATCATTTGTGCTTTTCAGCTTGACACAGGTTTGGAGTATGCAAACAGCTATAATTTTGCAAAAAAGGAAAATAACTCTCCTGAACATCTAAAAGATGAAGTTTCTATCATCCAAAGTATGGGCTACAGAAACCGTGCCAAAAGACTTCTACAGAGTGAACCCGAAAATCCTTCCTTGCAGGAAACCAGTCTCAGTGTCCAACTCTCTAACCTTGGAACTGTGAGAACTCTGAGGACAAAGCAGCGGATACAACCTCAAAAGACGTCTGTCTACATTGAATTGGGATCTGATTCTTCTGAAGATACCGTTAATAAGGCAACTTATTGCAGTGTGGGAGATCAAGAATTGTTACAAATCACCCCTCAAGGAACCAGGGATGAAATCAGTTTGGATTCTGCAAAAAAGGCTGCTTGTGAATTTTCTGAGACGGATGTAACAAATACTGAACATCATCAACCCAGTAATAATGATTTGAACACCACTGAGAAGCGTGCAGCTGAGAGG',\n",
       " 'ATGGATTTATCTGCTGTTCGCGTTGAAGAAGTACAAAATGTCATTAATGCTATGCAGAAAATCTTAGAGTGTCCAATCTGTCTGGAGTTGATCAAGGAACCTGTCTCCACAAAGTGTGACCACATATTTTGCAGATTTTGCATGCTGAAACTTCTCAACCAGAAGAAAGGGCCTTCACAGTGTCCTTTGTGTAAGAATGATATAACCAAAAGAAGCCTACAAGAAAGTACAAGATTTAGTCAACTTGTTGAAGAGCTATTGAAAATCATTCATGCTTTTCAGCTTGACACAGGTTTGCAGTTTGCAAACAGTTATAATTTTGCAAAAAAGGAAAATCACTCTCCTGAACATCTAAAAGATGAAGTTTCTATCATCCAAAGTATGGGCTACAGAAACCGTGCCAAAAGACTTCTACAGAGTGAACCCGAAAATCCTTCCTTGCAGGAAACCAGTCTCAGTGTCCCACTCTCTAACCTTGGAATTGTGAGAACTCTGAGGACAAAGCAGCAGATACAACCTCAAAAGAAGTCTGTCTACATTGAACTGGGATCTGATTCTTCTGAAGATACGGTTAATAAGGCAACTTATTGCAGTGTGGGAGATCAAGAATTGTTACAAATCACCCCTCAAGGAACCAGGGATGAAACCAGTTTGGATTCTGCAAAAAAGGCTGCTTGTGAATTTTCTGAGAAGGATATAACAAATACTGAACATCATCAGTCCAGTAATAATGATTTGAACACCACTGAGAAACATGCAACTGAGAGGCATCCAGAAAAGTATCAGGGTAGTTCTGTTTCAAACTTGCATGTGGAGCCATGTGGCACAAATACTCATGCCAGCTCATTACAGCATGAGAACAGTTTATTACTCACTAAAGACAGAATGAATGTAGAAAAGGCTGAATTCTGTAATAAAAGCAAACAGCCTGGCTTGGCAAGGAGCCAACATAACAGATGGACTGGAAGTAAGGAAACATGTAATGATAGGCAGACTCCCA',\n",
       " 'GTTCCGAAAGGCTAGCGCTAGGCGCCAAGCGGCCGGTTTCCTTGGCGACGGAGAGCGCGGGAATTTTAGATAGATTGTAATTGCGGCTGCGCGGCCGCTGCCCGTGCAGCCAGAGGATCCAGCACCTCTCTTGGGGCTTCTCCGTCCTCGGCGCTTGGAAGTACGGATCTTTTTTCTCGGAGAAAAGTTCACTGGAACTGGAAGAAATGGATTTATCTGCCGTCCAAATTCAAGAAGTACAAAATGTCCTTCATGCTATGCAGAAAATCTTAGAGTGTCCGATCTGTTTGGAACTGATCAAAGAACCTGTTTCCACAAAGTGTGACCACATATTTTGCAAATTTTGTATGCTGAAACTTCTTAACCAGAAGAAAGGGCCTTCACAATGTCCTTTGTGTAAGAATGAGATAACCAAAAGGAGCCTACAGGGAAGCACAAGGTTTAGTCAGCTTGCTGAAGAGCTGCTGAGAATAATGGCTGCTTTTGAGCTTGACACGGGAATGCAGCTTACAAATGGTTTTAGTTTTTCAAAAAAGAGAAATAATTCTTGTGAGCGTTTGAATGAGGAGGCGTCGATCATCCAGAGCGTGGGCTACCGGAACCGTGTCAGAAGGCTTCCCCAGGTCGAACCTGGAAATGCCACCTTGAAGGACAGCCTAGGTGTCCAGCTGTCTAACCTTGGAATCGTGAGATCAGTGAAGAAAAACAGGCAGACCCAACCTCGAAAGAAATCTGTCTACATTGAACTAGACTCTGATTCTTCTGAAGAGACAGTAACTAAGCCAGGTGATTGCAGTGTGAGAGACCAGGAATTGTTACAGACCGCCCCTCAAGAAGCTGGAGATGAAGGCAAGCTGCACTCTGCAGAAGAGGCTGCTTGTGAGTTTTCTGAGGGCATAAGAAACATTGAACATCATCAATGCAGTGATGATTTAAACCCTACTGAGAATCATGCAACTGAAAGGCATCCAGAAAAATGTCAGAGTATTTCTATTTCAAA',\n",
       " 'ATGGATTTATCTGCTCTTCGCGTTGAAGAAGTACAAAATGTCATTAACGCTATGCAGAAAATCTTAGAGTGTCCCATCTGTCTGGAGTTGATCAAGGAACCTGTCTCCACAAAGTGTGACCACATATTTTGCAAATTTTGCATGCTGAAACTTCTCAACCAGAAGAAAGGGCCTTCACAGTGTCCTTTATGTAAGAATGATATAACCAAAAGGAGCCTACAAGAAAGTACGAGATTTAGTCAACTTGTTGAAGAGCTATTGAAAATCATTTGTGCTTTTCAGCTTGACACAGGTTTGGAGTATGCAAACAGTTATAATTTTGCAAAAAAGGAAAATAACTCTCCTGAACATCTAAAAGATGAAGTTTCTATCATCCAAAGTATGGGCTACAGAAACCGTGCCAAAAGACTTCTACAGAGTGAACCTGAAAATCCTTCCTTGCAGGAAACCAGTCTCAGTGTCCAACTCTCTAACCTTGGAACTGTGAGAACTCTGAGGACAAAGCAACGGATACAACCTCAAAAGAAGTCTGTCTACATTGAATTGGGATCTGATTCTTCTGAAGATACCGTTAATAAGGCAACTTATTGCAGTGTGGGAGATCAAGAATTGTTACAAATCACCCCTCAAGGAACCAGGGATGAAATCAGTTTGGATTCTGCAAAAAAGGCTGCTTGTGAATTTTCTGAGACGGATGTAACAAATACTGAACATCATCAACCCAGTAATAATGATTTGAACACCACTGAGAAGCGTGCAACTGAGAGGCATCCAGAAAAGTATCAGGGTAGTTCTGTTTCAAACTTGCATGTGGAGCCATGTGGCACAAATACTCATGCCAGCTCATTACAGCATGAGAACAGCAGTTTATTACTCACTAAAGACAGAATGAATGTAGAAAAGGCTGAATTCTGTAATAAAAGCGAACAGCCTGGCTTAGCAAGGAGCCAACATAACAGATGGGCTGGAAGTAAGGAAACATGTAATGATAGGCGGACTC',\n",
       " 'CGCTGGTGCAACTCGAAGACCTATCTCCTTCCCGGGGGGGCTTCTCCGGCATTTAGGCCTCGGCGTTTGGAAGTACGGAGGTTTTTCTCGGAAGAAAGTTCACTGGAAGTGGAAGAAATGGATTTATCTGCTGTTCGAATTCAAGAAGTACAAAATGTCCTTCATGCTATGCAGAAAATCTTGGAGTGTCCAATCTGTTTGGAACTGATCAAAGAACCGGTTTCCACACAGTGCGACCACATATTTTGCAAATTTTGTATGCTGAAACTCCTTAACCAGAAGAAAGGACCTTCCCAGTGTCCTTTGTGTAAGAATGAGATAACCAAAAGGAGCCTACAAGGAAGTGCAAGGTTTAGTCAACTTGTTGAAGAGCTGCTGAAAATCATTGATGCTTTTGAGCTTGACACCGGAATGCAGTGTGCAAATGGTTTTAGTTTTTCAAAAAAGAAAAATAGTTCTTCTGAGCTTCTGAATGAGGACGCTTCTATCATCCAGAGTGTGGGCTACCGAAACCGCGTCAAAAAACTTCAACAGATTGAGTCTGGAAGTGCCACCTTGAAGGACAGTCTCAGTGTCCAGTTGTCTAACCTTGGGATTGTGAGATCAATGAAGAAAAATAGGCAGACACAACCTCAAAACAAATCTGTCTACATTGCTTTAGAATCTGATTCTTCTGAGGAGAGAGTAAATGCACCCGATGGCTGCAGTGTGAGAGATCAGGAATTGTTTCAGATCGCCCCTGGAGGAGCTGGAGATGAAGGCAAGTTGAACTCTGCAAAAAAGGCTGCTTGTGACTTTTCTGAGGGCATAAGAAACATTGAACATCATCAATGCAGTGATAAAGATTTGAACCCCACTGAGAATCATGCAACTGAAAGGCATCCAGAAAAATGTCCGCGTATTTCTGTTGCAAACGTGCACGTGGAGCCGTGTGGCACAGATGCTCGTGCCAGCTCATTACAGCGTGGGACCCGCAGTTTATTGTTCACTGAGGACAGAC']"
      ]
     },
     "execution_count": 33,
     "metadata": {},
     "output_type": "execute_result"
    }
   ],
   "source": [
    "test_list = [item[:1000] for item in clean_seq_full]\n",
    "test_list"
   ]
  },
  {
   "cell_type": "code",
   "execution_count": 35,
   "metadata": {},
   "outputs": [
    {
     "name": "stdout",
     "output_type": "stream",
     "text": [
      "Aligning pairwise:  2\n",
      "Aligning pairwise:  3\n",
      "Aligning pairwise:  4\n",
      "Aligning pairwise:  5\n",
      "Aligning pairwise:  6\n",
      "Aligning pairwise:  7\n",
      "CPU times: total: 5.66 s\n",
      "Wall time: 7.33 s\n"
     ]
    }
   ],
   "source": [
    "%%time\n",
    "M = capibara_slow_alignement(test_list,substitution_matrix,5)\n",
    "alignment_outputfile = 'presentation/full_aligned_test_1000seq' \n",
    "aligned_seq = [''.join(i) for i in M] \n",
    "save_sequences_as_fasta(alignment_outputfile,aligned_seq,'')"
   ]
  },
  {
   "cell_type": "code",
   "execution_count": 62,
   "metadata": {},
   "outputs": [
    {
     "data": {
      "text/plain": [
       "8"
      ]
     },
     "execution_count": 62,
     "metadata": {},
     "output_type": "execute_result"
    }
   ],
   "source": [
    "len(clean_seq_full)"
   ]
  },
  {
   "cell_type": "code",
   "execution_count": 63,
   "metadata": {},
   "outputs": [
    {
     "name": "stdout",
     "output_type": "stream",
     "text": [
      "Aligning pairwise:  2\n",
      "Aligning pairwise:  3\n",
      "Aligning pairwise:  4\n",
      "Aligning pairwise:  5\n",
      "Aligning pairwise:  6\n",
      "Aligning pairwise:  7\n",
      "CPU times: total: 3min 38s\n",
      "Wall time: 5min 5s\n"
     ]
    }
   ],
   "source": [
    "%%time\n",
    "M = capibara_slow_alignement(clean_seq_full,substitution_matrix,5)\n",
    "alignment_outputfile = 'presentation/full_aligned' \n",
    "aligned_seq = [''.join(i) for i in M] \n",
    "save_sequences_as_fasta(alignment_outputfile,aligned_seq,'')"
   ]
  },
  {
   "cell_type": "code",
   "execution_count": 64,
   "metadata": {},
   "outputs": [
    {
     "data": {
      "text/plain": [
       "666534"
      ]
     },
     "execution_count": 64,
     "metadata": {},
     "output_type": "execute_result"
    }
   ],
   "source": [
    "compute_sp_score(alignment_outputfile)"
   ]
  }
 ],
 "metadata": {
  "kernelspec": {
   "display_name": "base",
   "language": "python",
   "name": "python3"
  },
  "language_info": {
   "codemirror_mode": {
    "name": "ipython",
    "version": 3
   },
   "file_extension": ".py",
   "mimetype": "text/x-python",
   "name": "python",
   "nbconvert_exporter": "python",
   "pygments_lexer": "ipython3",
   "version": "3.9.16"
  },
  "orig_nbformat": 4
 },
 "nbformat": 4,
 "nbformat_minor": 2
}
