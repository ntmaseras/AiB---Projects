{
 "cells": [
  {
   "cell_type": "code",
   "execution_count": 1,
   "metadata": {},
   "outputs": [],
   "source": [
    "from alignment import *\n",
    "from parsing import parse_matrix_and_gap_cost_in_subst_matrix,read_n_fasta\n",
    "from msa_sp_score_3k import compute_sp_score\n",
    "import os"
   ]
  },
  {
   "cell_type": "code",
   "execution_count": 2,
   "metadata": {},
   "outputs": [],
   "source": [
    "matrix_path = 'input/subst_matrix.txt'\n",
    "substitution_matrix = parse_matrix_and_gap_cost_in_subst_matrix(matrix_path)"
   ]
  },
  {
   "attachments": {},
   "cell_type": "markdown",
   "metadata": {},
   "source": [
    "Read and align the sequences from 1-3 to 1-6."
   ]
  },
  {
   "cell_type": "code",
   "execution_count": 3,
   "metadata": {},
   "outputs": [],
   "source": [
    "list_of_seq = read_n_fasta('experiments/brca1-testseqs.fasta',6)\n",
    "results = []\n",
    "for i in [3,4,5,6]:\n",
    "        M = two_approx_algorithm_for_MSA(list_of_seq[:i], substitution_matrix)  ########## algorithm TO REPLACE\n",
    "        alignment_approx_outputfile = 'presentation/aligned_' + str(i)\n",
    "        approx_alignment = print_alignment(M,alignment_approx_outputfile) ## print alignment to file\n",
    "    "
   ]
  },
  {
   "attachments": {},
   "cell_type": "markdown",
   "metadata": {},
   "source": [
    "Compute scores from alignments:"
   ]
  },
  {
   "cell_type": "code",
   "execution_count": 4,
   "metadata": {},
   "outputs": [
    {
     "name": "stdout",
     "output_type": "stream",
     "text": [
      "The optimal score is in seqs 1 - 3 : 792\n",
      "The optimal score is in seqs 1 - 4 : 2345\n",
      "The optimal score is in seqs 1 - 5 : 3295\n",
      "The optimal score is in seqs 1 - 6 : 6005\n"
     ]
    }
   ],
   "source": [
    "for i in [3,4,5,6]:\n",
    "    ####### approx\n",
    "    testfile = 'presentation/aligned_' + str(i)\n",
    "    if os.path.isfile(testfile):   \n",
    "        score = compute_sp_score(testfile)\n",
    "        print(\"The optimal score is in seqs 1 -\",i,\":\",score)"
   ]
  },
  {
   "cell_type": "code",
   "execution_count": 7,
   "metadata": {},
   "outputs": [
    {
     "data": {
      "text/plain": [
       "8"
      ]
     },
     "execution_count": 7,
     "metadata": {},
     "output_type": "execute_result"
    }
   ],
   "source": [
    "seq_full = read_n_fasta('experiments/brca1-full.fasta')\n",
    "len(seq_full)"
   ]
  },
  {
   "attachments": {},
   "cell_type": "markdown",
   "metadata": {},
   "source": [
    "In a sequence, there are nucleotides that are not A,C,G or T"
   ]
  },
  {
   "cell_type": "code",
   "execution_count": 11,
   "metadata": {},
   "outputs": [
    {
     "name": "stdout",
     "output_type": "stream",
     "text": [
      "{'A', 'C', 'G', 'T'}\n",
      "{'A', 'C', 'G', 'T'}\n",
      "{'G', 'T', 'A', 'C'}\n",
      "{'G', 'A', 'C', 'T'}\n",
      "{'A', 'C', 'G', 'T'}\n",
      "{'G', 'A', 'C', 'T'}\n",
      "{'A', 'C', 'G', 'T'}\n",
      "{'T', 'G', 'C', 'N', 'R', 'S', 'A'}\n"
     ]
    }
   ],
   "source": [
    "for seq in seq_full:\n",
    "    print(set(seq))"
   ]
  },
  {
   "cell_type": "code",
   "execution_count": 13,
   "metadata": {},
   "outputs": [
    {
     "name": "stdout",
     "output_type": "stream",
     "text": [
      "{'A', 'C', 'G', 'T'}\n",
      "{'A', 'C', 'G', 'T'}\n",
      "{'G', 'T', 'A', 'C'}\n",
      "{'G', 'A', 'C', 'T'}\n",
      "{'A', 'C', 'G', 'T'}\n",
      "{'G', 'A', 'C', 'T'}\n",
      "{'A', 'C', 'G', 'T'}\n",
      "{'G', 'T', 'A', 'C'}\n"
     ]
    }
   ],
   "source": [
    "import random\n",
    "# Replace 'N', 'R' or 'S' with a random nucleotide\n",
    "clean_seq_full = []\n",
    "for sequence in seq_full:\n",
    "    replaced_sequence = ''\n",
    "    for nucleotide in sequence:\n",
    "        if nucleotide == 'N' or nucleotide == 'R' or nucleotide == 'S' :\n",
    "            replaced_sequence += random.choice(['A', 'C', 'T', 'G'])\n",
    "        else:\n",
    "            replaced_sequence += nucleotide\n",
    "    clean_seq_full.append(replaced_sequence)\n",
    "\n",
    "for seq in clean_seq_full:\n",
    "    print(set(seq))"
   ]
  },
  {
   "attachments": {},
   "cell_type": "markdown",
   "metadata": {},
   "source": [
    "Align the 8 sequences:"
   ]
  },
  {
   "cell_type": "code",
   "execution_count": 14,
   "metadata": {},
   "outputs": [
    {
     "ename": "TypeError",
     "evalue": "'NoneType' object is not subscriptable",
     "output_type": "error",
     "traceback": [
      "\u001b[1;31m---------------------------------------------------------------------------\u001b[0m",
      "\u001b[1;31mTypeError\u001b[0m                                 Traceback (most recent call last)",
      "Cell \u001b[1;32mIn[14], line 1\u001b[0m\n\u001b[1;32m----> 1\u001b[0m M \u001b[39m=\u001b[39m two_approx_algorithm_for_MSA(clean_seq_full, substitution_matrix) \u001b[39m########## algorithm TO REPLACE\u001b[39;00m\n\u001b[0;32m      2\u001b[0m alignment_outputfile \u001b[39m=\u001b[39m \u001b[39m'\u001b[39m\u001b[39mpresentation/full_aligned\u001b[39m\u001b[39m'\u001b[39m\n\u001b[0;32m      3\u001b[0m approx_alignment \u001b[39m=\u001b[39m print_alignment(M,alignment_outputfile) \u001b[39m## print alignment to file\u001b[39;00m\n",
      "File \u001b[1;32mc:\\Users\\genon\\uni\\master\\semestre2\\algorithms\\AiB projects\\P3\\alignment.py:111\u001b[0m, in \u001b[0;36mtwo_approx_algorithm_for_MSA\u001b[1;34m(list_of_seqs, subst_matrix)\u001b[0m\n\u001b[0;32m    105\u001b[0m j \u001b[39m=\u001b[39m \u001b[39m0\u001b[39m\n\u001b[0;32m    106\u001b[0m \u001b[39mwhile\u001b[39;00m i \u001b[39m<\u001b[39m \u001b[39mlen\u001b[39m(M) \u001b[39mand\u001b[39;00m j \u001b[39m<\u001b[39m \u001b[39mlen\u001b[39m(A):\n\u001b[0;32m    107\u001b[0m     \u001b[39m# Invariant: (1) MA is a valid merge of all columns before column i in M\u001b[39;00m\n\u001b[0;32m    108\u001b[0m     \u001b[39m# and all columns before column in A, and (2) the first row of M and A up\u001b[39;00m\n\u001b[0;32m    109\u001b[0m     \u001b[39m# to (but not including) column i and j respectively is the same string\u001b[39;00m\n\u001b[0;32m    110\u001b[0m     \u001b[39m# if gaps are removed.\u001b[39;00m\n\u001b[1;32m--> 111\u001b[0m     \u001b[39mif\u001b[39;00m M[i][\u001b[39m0\u001b[39;49m] \u001b[39m==\u001b[39m \u001b[39m'\u001b[39m\u001b[39m-\u001b[39m\u001b[39m'\u001b[39m \u001b[39mand\u001b[39;00m A[j][\u001b[39m0\u001b[39m] \u001b[39m==\u001b[39m \u001b[39m'\u001b[39m\u001b[39m-\u001b[39m\u001b[39m'\u001b[39m:\n\u001b[0;32m    112\u001b[0m         \u001b[39m# Case 1: The next column in MA is column i in M extended with the second symbol\u001b[39;00m\n\u001b[0;32m    113\u001b[0m         \u001b[39m# in column j in A.\u001b[39;00m\n\u001b[0;32m    114\u001b[0m         M[i]\u001b[39m.\u001b[39mappend(A[j][\u001b[39m1\u001b[39m])\n\u001b[0;32m    115\u001b[0m         MA\u001b[39m.\u001b[39mappend(M[i])\n",
      "\u001b[1;31mTypeError\u001b[0m: 'NoneType' object is not subscriptable"
     ]
    }
   ],
   "source": [
    "M = two_approx_algorithm_for_MSA(clean_seq_full, substitution_matrix) ########## algorithm TO REPLACE\n",
    "alignment_outputfile = 'presentation/full_aligned'\n",
    "approx_alignment = print_alignment(M,alignment_outputfile) ## print alignment to file"
   ]
  },
  {
   "cell_type": "code",
   "execution_count": null,
   "metadata": {},
   "outputs": [],
   "source": [
    "compute_sp_score(alignment_outputfile)"
   ]
  }
 ],
 "metadata": {
  "kernelspec": {
   "display_name": "base",
   "language": "python",
   "name": "python3"
  },
  "language_info": {
   "codemirror_mode": {
    "name": "ipython",
    "version": 3
   },
   "file_extension": ".py",
   "mimetype": "text/x-python",
   "name": "python",
   "nbconvert_exporter": "python",
   "pygments_lexer": "ipython3",
   "version": "3.9.16"
  },
  "orig_nbformat": 4
 },
 "nbformat": 4,
 "nbformat_minor": 2
}
