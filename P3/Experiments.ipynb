{
 "cells": [
  {
   "cell_type": "code",
   "execution_count": 1,
   "metadata": {},
   "outputs": [],
   "source": [
    "import sys\n",
    "from alignment import *\n",
    "from parsing import parse_matrix_and_gap_cost_in_subst_matrix\n",
    "import os\n",
    "from Bio import SeqIO\n",
    "from msa_sp_score_3k import compute_sp_score"
   ]
  },
  {
   "cell_type": "code",
   "execution_count": 2,
   "metadata": {},
   "outputs": [],
   "source": [
    "def read_n_fasta(filename, n):\n",
    "    sequences = [str(record.seq) for record in SeqIO.parse(filename, \"fasta\")]\n",
    "    return sequences[:n]"
   ]
  },
  {
   "cell_type": "code",
   "execution_count": 3,
   "metadata": {},
   "outputs": [],
   "source": [
    "matrix_path = 'input/subst_matrix.txt'\n",
    "substitution_matrix = parse_matrix_and_gap_cost_in_subst_matrix(matrix_path)"
   ]
  },
  {
   "attachments": {},
   "cell_type": "markdown",
   "metadata": {},
   "source": [
    "Experiments:\n",
    "Answer the following questions:\n",
    "\n",
    "    - What is the score of an optimal aligment of the first 3 sequences in brca1-testseqs.fasta (i.e. brca1_bos_taurus, brca1_canis_lupus and brca1_gallus_gallus) as computed by your program sp_exact_3? How does an optimal alignment look like?\n",
    "\n"
   ]
  },
  {
   "cell_type": "code",
   "execution_count": 4,
   "metadata": {},
   "outputs": [
    {
     "name": "stdout",
     "output_type": "stream",
     "text": [
      "The optimal score is:  882\n",
      "ATGGATTTATCTGCGGATCATGTTGAAGA-AGTACAAAATGTCCTCAATGCTATGCA-GAAAATCTTAG--AGTGTCCAATA-TGTCTGGAGTTGATCAAAGAGCCT-GTC-TCTACAAAGTGTGACC-A-CA-TATTTTGCAAATTTTGTATGC-TGAAAC-T--TCTCAACCA-GAAGAAAGGGCCTTCACAATGTCC--TTTGTGTAAGAATGA-\n",
      "ATGGATTTATCTGCGGATCGTGTTGAAGA-AGTACAAAATGTTCTTAATGCTATGCA-GAAAATCTTAG--AGTGTCCAATA-TGTCTGGAGTTGATCAAAGAGCCT-GTT-TCTACAAAGTGTGATC-A-CA-TATTTTGCAAATTTTGTATGC-TGAAAC-T--TCTCAACCA-GAGGAAGGGGCCTTCACAGTGTCC--TTTGTGTAAGAACGA-\n",
      "GCGAA---AT--GTA-A-CACGGTAGAGGTGAT-CGGGGTG-CGTTA-TAC-GTGCGTGGTGACCTCGGTCGGTGTT-GACGGTGCCTGGGGTTCCTCAGAGTGTTTTGGGGTCTGAAGGATG-GACTTGTCAGTGATT-GCCA-TTGGAGACGTGCAAAATGTGCTTTCAGCCATGCAGAA-GAAC-TTGG-AGTGTCCAGTCTGTTTAGATGTGAT\n"
     ]
    }
   ],
   "source": [
    "list_of_seq = read_n_fasta('experiments/brca1-testseqs.fasta',3)\n",
    "\n",
    "M = two_approx_algorithm_for_MSA(list_of_seq, substitution_matrix)\n",
    "score = sp_score(M,substitution_matrix)\n",
    "\n",
    "print(\"The optimal score is: \",score)\n",
    "alignment = print_alignment(M)"
   ]
  },
  {
   "attachments": {},
   "cell_type": "markdown",
   "metadata": {},
   "source": [
    "    - What is the score of the alignment of the first 5 sequences in brca1-testseqs.fasta (i.e. brca1_bos_taurus, brca1_canis_lupus, brca1_gallus_gallus, brca1_homo_sapiens, and brca1_macaca_mulatta) as computed by your program sp_approx? Which of the 5 sequences is choosen as the 'center string'?\n"
   ]
  },
  {
   "cell_type": "code",
   "execution_count": 5,
   "metadata": {},
   "outputs": [
    {
     "name": "stdout",
     "output_type": "stream",
     "text": [
      "The optimal score is:  4345\n",
      "ATGGATTTATCTGCGGATCATGTTGAAGA-AG-TAC--AA-AAT-GTCC-TCAATGCTATGCA-GAAAATCTTAG--AGTGTCCAATA-TGTCTGGAGTTGATCAAAGAGCCT-GTC-TCTACAAAGTGTGA-C-C-A-C--A-TATTTTGCAAATTTTGTAT-G-C-TG-AAAC-T--TCTCAACCA-GAAGAAAGGGCCT-T-CAC--AAT-GTCC--TTTGTGTAAGAATGA\n",
      "ATGGATTTATCTGCGGATCGTGTTGAAGA-AG-TAC--AA-AAT-GTTC-TTAATGCTATGCA-GAAAATCTTAG--AGTGTCCAATA-TGTCTGGAGTTGATCAAAGAGCCT-GTT-TCTACAAAGTGTGA-T-C-A-C--A-TATTTTGCAAATTTTGTAT-G-C-TG-AAAC-T--TCTCAACCA-GAGGAAGGGGCCT-T-CAC--AGT-GTCC--TTTGTGTAAGAACGA\n",
      "GCGAA---AT--GTA-A-CACGGTAGAGGTGA-T-C--GG-GGT-G-CG-TTA-TAC-GTGCGTGGTGACCTCGGTCGGTGTT-GACGGTGCCTGGGGTTCCTCAGAGTGTTTTGGGGTCTGAAGGATG-GA-C-TTGTC--AGTGATT-GCCA-TTGGAGAC-G-TGCA-AAATGTGCTTTCAGCCATGCAGAA-GAAC-T-T-GG---AGT-GTCCAGTCTGTTTAGATGTGA\n",
      "GTACCTTGATTT-CGTATTCTGA-GAGGC-TGCTGCTTAGCGGTAGCCCCTTGGT-TTCCGTG-GCAA-CGGAAA--AGCGCGGGA-A-T-TACAGA-TAAATTAAA-A-C-T-GCG-ACTGCGCGGCGTGAGCTC-G-CTGA-GACTTCCTGGACGGGGGACAGGC-TGTGGGG-T--T-TC--TCA-GATAACTGGGCCCCTGCGCTCAGGAGGCC--TTCACCCTC---T--\n",
      "ATGGATTTATCTGCTGTTCGCGTTGAAGA-AG-TAC--AA-AAT-GTCA-TTAATGCTATGCA-GAAAATCTTAG--AGTGTCCAATC-TGTCTGGAGTTGATCAAGGAACCT-GTC-TCCACAAAGTGTGA-C-C-A-C--A-TATTTTGCAGATTTTGCAT-G-C-TG-AAAC-T--TCTCAACCA-GAAGAAAGGGCCT-T-CAC--AGT-GTCC--TTTGTGTAAGAATGA\n"
     ]
    }
   ],
   "source": [
    "list_of_seq = read_n_fasta('experiments/brca1-testseqs.fasta',5)\n",
    "M = two_approx_algorithm_for_MSA(list_of_seq, substitution_matrix)\n",
    "score = sp_score(M,substitution_matrix)\n",
    "print(\"The optimal score is: \",score)\n",
    "alignment = print_alignment(M)"
   ]
  },
  {
   "attachments": {},
   "cell_type": "markdown",
   "metadata": {},
   "source": [
    "    - Make an experiment comparing the scores of the alignments computed by sp_exact_3 and sp_approx that validates that the approximation ratio of sp_approx is 2(k-1)/k for k sequences. i.e 4/3 for three sequences. \n",
    "    \n",
    "    You should use the testdata in testseqs.zip that contains 20 fasta files (testseqs_10_3.fasta, testseqs_20_3.fasta, ..., testseqs_200_3.fasta) each containing 3 sequences of lengths 10, 20, ..., 200.\n",
    "\n",
    "    -For each triplet of sequences (i.e. each fasta file), you should compute the optimal score of an MSA using sp_exact_3 and the score of the alignment produced by sp_approx. Make a graph in which you plot the ratio of the computed scores for each sequence length. Comment on what you observe.\n",
    "\n",
    "    The python script msa_sp_score_3k.py (or msa_sp_score.py if you are using Python 2.x) can be used to compute the SP-score of an alignment stored in FASTA format cf. the above distance matrix and gapcost."
   ]
  },
  {
   "cell_type": "code",
   "execution_count": 10,
   "metadata": {},
   "outputs": [
    {
     "name": "stdout",
     "output_type": "stream",
     "text": [
      "CAGGGTT--TCA-AGATGAC-CAGGACTGGGTTACTCACT-TCTG-CAGCTTA-T-ATCTCACGCC-CGACACGAACGGAG-AGA-AC-CTGAAATATCCGGACATATAGA-C\n",
      "-ACATTTGGTCATGGAAGGTATAGCACTCGACAAAACA-T-CAT--CA-TTCG-TTGTTCCG-GCG-TAGTACAGGGGGCCTAGA-TG-CT-ATACATCAGGG-ATGCGGAAC\n",
      "CAAAAAC--TCA-TAATAGC-TCA-ATTGA-TC-CTAGATATTTAATAGATTAAT-AGAATGAGCCACTCCATCAACCGGC-ACATACGCCGGAGC-TA-AGAC-TCCAGC-T\n",
      "GAAGCGGTGC\n",
      "GAGG-GGCGC\n",
      "TTAACAACGG\n",
      "---AC-AT-CA-T-ATCTTAT-TAGGGTG-ATCGAAAATGGCACGTGACGGTCGTGCTCGA-CT-ATAATACTA-GCGGCGTAGTTTCCTCG-ATAC-TCTAGA-TA-CTAAATCAA-GC-CAA-ATG-G\n",
      "---GGGAC-TGGTTACCTAACATGGAGTGTAT-GAAACT--C-TATC-CGGCCAT-CT-GA-CA-GAAAT-CGACACGGTG-AATCTG-TCGCACGCGTGAAGAATG--TAGG-CAT-TTTCAGTGTACA\n",
      "TTGAC-ATTCA-G-ATCG-AT-AAGTCCG-GTCTAGATT--CACG-GACACTTGCGAGTGAACTGAGGACGTTA-GGAATTCGGTTTACT-G--T-T-TATAAAATAACCACACCAACGC-TAG-GC---\n",
      "----TA-C-TAAACC-T-TACAAT-ACGC-C-TCGTAATATA-CGA-TAGCGACGCAACG-GCATT-TG-AAAT-CTCATACAGACTGACC-TGCCGTAGGTGCGGTTA-TAAGAACTCCATGTGAGGGCAGGTT-ATAC\n",
      "A---TT-CATGCACTGTCTACACTTGCATGTATCACACTATG-CAAGTA-TGAC-CA-TG-GCTCT-TA-ACGTACCCG-A-AAAGTAACC-CGCCTCAAAC-CTCCTAGCATGAGCGT--TGC-AGC-TAGATCCAT-T\n",
      "GAAACAGT-TGAATC-T-CCCCCCGAAGT-CGTTTTGACGTAACTA-TGG-GACG-AGCTCACGCTGTGGAAAT-GCT-T-CAGGTTGAAAACGCCCAAGGTA-GACTGGTGCGA-CTCGA-A-GAAGG--GA---ATA-\n",
      "-A-AGGTGTTGTGGTTTGTCT-ACTATCCCACTCATTCGCGGTTTC-CACCGCTAT-GTTG--AC-TG-TGG-GAA--CTTTTA-ACAGTAGCTACAAGACTCCTTT-A-GG-GC-TCGCAT-GT-GA-CTT-TCTGT-ACCTGCTGTAAGG\n",
      "TGCAGGT-CCGGAGGA-GTCT--C-ATCTT-CT-AGT-GCGCCCTA-TACC-TTATCGTTATCACGTA-TGGTGAAATCTTTTGCATAG-ACCTAGGGAAAGCCTTCGATGG-AA-TGACA--GC-GGGCTT-ATCGG-ACA-GTAATAC--\n",
      "-A-CAGCGGT-TCGTTTGTTAGACCGTAGGAATCAGGGGTGGCCTTATATC-C-AC-GTAA--AA-AAATCG-GTG--TTTTTG--C-GTAACC-TGATATTTCAC--A-CGTGTATC-CATTGGAGAACCGGTCGACGACCCGA-ATCAT-\n",
      "-TG--GGTAGCTGGAGGTGCGCT-C--GCAC-TTACGGGTTGCATCCTC-CGGAGCTTG-TGTTCG-GTCTCGGGTGCAATTAG-TATCCAG-TA-CAAC-TTGCA-GGCTGCT-GGCTCCTATAGGAC-GCTT----T-CGGAAACATAAAGGGCTGTACG-\n",
      "CTA--TATAG--AAATATACCCT-C--ATAC-CT-TGT-TTAAAAGATCGCAGGATAAGCTATTCGAGAGTCGGAT-C--TCAGACATGCAGATC-CCATGTT-CG-AAC-GCTCGGGGCA-ATGGGA--GCTCAAGGTACGAAAAGACAGGAGGTC-T-CT-\n",
      "CTCTCAG-AGCCAGCTGCGTACCACAAGGACGCCACGG-CCG-ATT-TG-CGGAG-T-G--GTTGA-ATC-CAAGTA-GATGAA-GATGTGA-TGGCGAT-CTACCCGGTT--T-AGCTAGTGAGGGATTATGTA---C-TGGTTA-ATCCCGGCCCATTCTT\n",
      "AAGGGGGGCGAAG-TA-GCCCAGTGCGTTGCTGGGTATCACAACGCACCTATA-T-C-TGGTG-GACGGTTTCAA-AC-ACCA-ATTCAAG-GTA--TATAG--ATC-CTG-AG-C--CTAGTATTTAGAGGACCGTCCAGTACGAA-CAGT-AGACCTGC-CAGTCGGAT-C\n",
      "TTGCATACTGAAACTGTACCC--C-TGTCGGTAAACGCT-TAATGGAGA-ATG-T-TATGGGAAGGAGGTGGAAGTAC-GCCGTAAGCG-G-ATAA-TGTAGCTATC-CTACGG-CT-CTGG-GTTTAAAGT-TTAGC-AGCA-GA--CAGC-C-ATATAT-GAGTAATATGT\n",
      "GAAGAGTG-GAGG-TA-AGA-AGTGTAAC-CTAC-T-CCTTAGGGTTCGTATAGTTC-TTGCG-CACATCTTTAG-ATGACCA-GTG-GAGTGCAGCTCTGGC-ACCGCCA-GGACGACTAACAGCC-GAGCGCC-TCGAG-G-GAATCGGTCACGTTTATACA-CT--AT--\n",
      "TCGG-GTCTTAGGCCATACCTCATCAAAATGGTCGAGGTAATTTT-CG-ACGGTGA-T-ATG-CATCTTA--TAAT-TTC-AGGTCTCAGTGTGAT-A--ATGACGACTC-GTAC-A-CTGGGTCTCAGCAT-AACT-TCACGGCGGAGTCACGCAAACG-TGTGT-GATAAACA-A--GT-A-A\n",
      "AT----TTCTGAGT-AGGTCCCGATAAGATG-TCCATTCTGCGCT--GTATACCGA-T-TTGGC-TCATGGGTGGCATTC-GAGTCT-AGCGCAGCGA--ATG-TGACT--GT-C-AACTGA-CCGCGG-ATTGACT-TTACTGCC-A-TTGAAAGAGTGATGTGTAGATATCCGTATCATTACG\n",
      "CTGGTG-CGCACGTGGGAAAT-GCCAAC-CGATTGAATCAACTCCACGCGTAACGAATTAAG-AACCGT---TC-T-TTAGAGGTGT-AGTATCCT-CCCACGA-GACTCAGTACCATCTGAAACT-ACC-T-GGCTATTA-GTTCAGGTGAT-TAA-TA-TCTGT-CCCACGCA-A--GG-A-T\n",
      "CGAGCATG-ATCCGCGTTTCATCGCTAGACATGCCGTTCGAA-ATGGGGTGG-CGGGGCAGT-TGCG-TA-CC-AC-CT-CAGGTTCTA-ATACGTAT-AGGTGCTTTCGGCTC-GTGGTGG-ATCAAA-A--C-TGAGTAGGGG-C-CTGGGTA-ACG-A-TGCGCAAT-CTGG--GAT---C-TTAA-AAACGTCCAT\n",
      "--ATT-TG--TTAG-GTCAGAAC-CTACAGACAATATTCGGGCGCTAACTG--TGGAGT-GTGTACGACAGCC-AC-CT-C---TCC-A-ATACAAGC--GAC-CTTT-AGCTCCATCCTGTTACTGAA-ATGC-TGGACAAA---C-CAGGGCATGCATAGCTCGTAAT-TCGACTGACAAACGTTAC-GAACCTTGAG\n",
      "TGCCCGCGTAGCTAAACTTC-T-ACCGGA-ATAGCGAA-AAA-GTTAAACGGTCAGAGC--T-CGAG--A-TCTATGCTGCAGAGGGAAGAT-CATGCCAACTGAACGCGACT--ATGAACG-TCCAATCG--CGCGAGTCGTATTCACCGCTTG-CCC-A--GTG-AACGCCAG--CAG---G-GCAATGGACAGCC--\n",
      "ATTTAAGCTTACGTATATCG-ATG-T-A-TCCGACATGAATAAAGATCTT-CACGA--G-TAAAT-TGTCATA-TTCGGAGGGGCTAAC-TAATACCAATAC-G-GGC-CTCATGGATT-TATCTAGG-CT-AGTGG-GGTCGCGTCG-AGTATGACGGCGGGGAC-GA-CCA--CG-TCG--AGTGGATTAAAACCGTTGCTCCT\n",
      "-TT-ACCCTTG-GTCCGACG-GAGCTTAGCTCGAT-TCCATGTCTGTCTTTCTCAA--C-TCAGT-TG-CGGGCTTCATAAACATCGTC-TCCCATCAATGCCGTGGAGCTT-CGGACTGTCTCCAGAACT-GACAAAGGTCAAGTTGCAGAA-GAT--CAGACGC-GA-CTA--GAACCT--AATG-ACTGCA-CGGT-GCTGA-\n",
      "CTACCGGCGTG-GCGGGTCGTACT-T-G-TTTCACTTC--TCCTTCCCTG-TACGGTTGATAAATATG-CACG-TGCTGCGACA-TAGCATTATGACA-CAC-G-CAC-CTC-TAG-CT--GTTTAGA-TTTGGCAG-AGTCA--TCG-CATAT-ACGCTGGGAATAGAGCCAATCT-TTTTTGATATACTCATGGTATTGCAAC-\n",
      "TTC-CCTTTTGT-ATGA-TG-CTA-ATGAGCGAAG---GAC-CC-CGGTGC--TCCGTATCA---CCTAT--CTCT-CTCGTGGCCATTCCACATGCTTATCGGGGTGACGGCAAGCTATTAACAAGACGAGCAAGATCC-TGT-TGGCATCACCGGACCAGAC--ATGGGAATGCCTTAACTCGCAAAAAGTG---AGT-CTGTCGTC-CTACC-C--C-\n",
      "CGAGCCCTGGGTCACAACTA-C-A-GTGCTTGGAGCTTAAG-CT-CGG-AC--TCT-TGGCA---GTT-C--GTC--CACGAGGCGGTCCC-TAT-C--A-CAGAG-GAGGGCAA-CTGTCTTTGTGTCGGCCTTGATCAATTT-TGACGGCAATAACCCAATC---TGC-AGCGTCCTG-C-CGTAGTACGTCCTTACCGCTGCCGCCACGACCATAGCT\n",
      "TCA-AGCTGCGC-CCGG-TGACTACATGTCTTATC---CATGCCGCAATGAAGCCCGAACCAAGGCCTAGGGCCCCACTCCTA-CGAACCCG-AT--TCATTGAGTT--CAACCGTCTGTCCATGCG-TG-GTA-G-TGC--GTCTGTCGTCGGGGGGGAAGACTGATCGTAACGCGTCCG-T-GCACAGAG-G---C-T-C-GTGGCA-CGAGC-C--GA\n",
      "A-TC---C-C-CA-GCTCCCGTC-CGACA-CTCGTAAATC-AT-TA-A-CAA---TA-A--CA-AT-TGTC-ATATCATTCCCCGG-CAG---GACGCCTGCTATCATTGGAGGCCTCACATT-TAGT-GCCGGTCTGATGTATATGCC-C-CCGATGCGGAGCTG-GACGT-CA-TATGACCTG-TCAAAGCTTCCTTGTGG--TCTG-AAC-TACCCAC-TAGGTCCT-CGTAAAATG\n",
      "A-CAA--CGTGCGTGATCCCGCGACGGGAGCTGGTGTGT--GTGTG---CA----CG----CA-AT-TATG-ATGTGGA-CGACGGTCCGT--GATGACTGGC-TCAT-G-AG-CTTC-TACC--A-T-ATCACTC-AAC--A-GTGCG-C-TCGACACAGGA-TGCAACGTGCAGTATG-TGTGATCTATACCCCCGTGAGACATCAGCAGCGT-CTCGCCTTGGTGCTATGTTCTTCG\n",
      "GGTCGAGT-C-TA-GCGTTCG-C-TGTT--TTTGCCAATCGAT-TACAACAAACCTAGAGACACATCTGCCTATATC-TTCAACGAACGGTCAGACTCCT-CCGGCATCTGAGGTCT-AGATGGCAGTCAACGGCC-G-T-CAAACACCGCACC-ATCCGGAACT----C-T-T--C-T-ACCGG-T-AG-GCTGCGCT-TGA--TCGA-AAT-T-CTTTC-GCGGACC---G-GAA-CA\n",
      "ACTGTGACGCG-TGC-TTCCTG\n",
      "GGTGCACCTCG-TAAACTTTT-\n",
      "CCCACACCGTGATAC-AGCCC-\n",
      "A-C--AGA-TCGGCGTGACACAG-GA-ACACTCGCG\n",
      "--C--AGG-GCA-CGAGGCGAAATGATGCGGGCGGG\n",
      "GGCGTAAAGCCGA-AT-ACTCGT-GA-AGAG--GTT\n"
     ]
    },
    {
     "ename": "TypeError",
     "evalue": "'NoneType' object is not subscriptable",
     "output_type": "error",
     "traceback": [
      "\u001b[1;31m---------------------------------------------------------------------------\u001b[0m",
      "\u001b[1;31mTypeError\u001b[0m                                 Traceback (most recent call last)",
      "Cell \u001b[1;32mIn[10], line 11\u001b[0m\n\u001b[0;32m      9\u001b[0m \u001b[39m########## aprox \u001b[39;00m\n\u001b[0;32m     10\u001b[0m M \u001b[39m=\u001b[39m two_approx_algorithm_for_MSA(list_of_seq, substitution_matrix)\n\u001b[1;32m---> 11\u001b[0m approx_score_value \u001b[39m=\u001b[39m sp_score(M,substitution_matrix)\n\u001b[0;32m     12\u001b[0m alignment_approx_outputfile \u001b[39m=\u001b[39m \u001b[39m'\u001b[39m\u001b[39mtestseqs/approx/aligned_\u001b[39m\u001b[39m'\u001b[39m \u001b[39m+\u001b[39m filename\n\u001b[0;32m     13\u001b[0m approx_alignment \u001b[39m=\u001b[39m print_alignment(M,alignment_approx_outputfile,filename)\n",
      "File \u001b[1;32mc:\\Users\\genon\\uni\\master\\semestre2\\algorithms\\AiB projects\\P3\\alignment.py:173\u001b[0m, in \u001b[0;36msp_score\u001b[1;34m(M, substitution_matrix)\u001b[0m\n\u001b[0;32m    171\u001b[0m \u001b[39mfor\u001b[39;00m i \u001b[39min\u001b[39;00m unique_combinations(M):\n\u001b[0;32m    172\u001b[0m     \u001b[39mfor\u001b[39;00m j,_ \u001b[39min\u001b[39;00m \u001b[39menumerate\u001b[39m(M):\n\u001b[1;32m--> 173\u001b[0m         sum_score \u001b[39m+\u001b[39m\u001b[39m=\u001b[39m substitution_matrix[M[j][i[\u001b[39m0\u001b[39;49m]]][M[j][i[\u001b[39m1\u001b[39m]]]\n\u001b[0;32m    174\u001b[0m \u001b[39mreturn\u001b[39;00m sum_score\n",
      "\u001b[1;31mTypeError\u001b[0m: 'NoneType' object is not subscriptable"
     ]
    }
   ],
   "source": [
    "exact_scores = []\n",
    "approx_scores = []\n",
    "\n",
    "## for all the files in the directory testseqs\n",
    "for filename in os.listdir('testseqs'):\n",
    "    testfile = 'testseqs/'+filename\n",
    "    if os.path.isfile(testfile):    \n",
    "        list_of_seq = read_n_fasta(testfile,3)\n",
    "        ########## aprox \n",
    "        M = two_approx_algorithm_for_MSA(list_of_seq, substitution_matrix)\n",
    "        approx_score_value = sp_score(M,substitution_matrix)\n",
    "        alignment_approx_outputfile = 'testseqs/approx/aligned_' + filename\n",
    "        approx_alignment = print_alignment(M,alignment_approx_outputfile,filename)\n",
    "        ########## exact \n",
    "        #exact_score_value = alignment_of_3_seqs(list_of_seq, substitution_matrix)\n",
    "        ## TO-DO\n",
    "        ## exact_alignment = get_alignment_exact()\n",
    "        #approx_score_value = compute_sp_score()\n",
    "    "
   ]
  },
  {
   "cell_type": "code",
   "execution_count": null,
   "metadata": {},
   "outputs": [
    {
     "name": "stdout",
     "output_type": "stream",
     "text": [
      "testseqs/approx/align_testseqs_100_3.fasta\n",
      "testseqs/approx/align_testseqs_10_3.fasta\n",
      "testseqs/approx/align_testseqs_110_3.fasta\n",
      "testseqs/approx/align_testseqs_120_3.fasta\n",
      "testseqs/approx/align_testseqs_130_3.fasta\n",
      "testseqs/approx/align_testseqs_140_3.fasta\n",
      "testseqs/approx/align_testseqs_150_3.fasta\n",
      "testseqs/approx/align_testseqs_160_3.fasta\n",
      "testseqs/approx/align_testseqs_170_3.fasta\n",
      "testseqs/approx/align_testseqs_180_3.fasta\n",
      "testseqs/approx/align_testseqs_190_3.fasta\n",
      "testseqs/approx/align_testseqs_200_3.fasta\n",
      "testseqs/approx/align_testseqs_20_3.fasta\n",
      "testseqs/approx/align_testseqs_30_3.fasta\n",
      "testseqs/approx/align_testseqs_40_3.fasta\n",
      "testseqs/approx/align_testseqs_50_3.fasta\n",
      "testseqs/approx/align_testseqs_60_3.fasta\n",
      "testseqs/approx/align_testseqs_70_3.fasta\n",
      "testseqs/approx/align_testseqs_80_3.fasta\n",
      "testseqs/approx/align_testseqs_90_3.fasta\n"
     ]
    }
   ],
   "source": [
    "folder_path = 'testseqs'\n",
    "for filename in os.listdir(folder_path):\n",
    "    file_path = os.path.join(folder_path, filename)\n",
    "    if os.path.isfile(file_path):\n",
    "        alignment_approx_outputfile = 'testseqs/approx/aligned_' + filename\n",
    "        print(alignment_approx_outputfile)"
   ]
  },
  {
   "cell_type": "markdown",
   "metadata": {},
   "source": []
  }
 ],
 "metadata": {
  "kernelspec": {
   "display_name": "base",
   "language": "python",
   "name": "python3"
  },
  "language_info": {
   "codemirror_mode": {
    "name": "ipython",
    "version": 3
   },
   "file_extension": ".py",
   "mimetype": "text/x-python",
   "name": "python",
   "nbconvert_exporter": "python",
   "pygments_lexer": "ipython3",
   "version": "3.9.16"
  },
  "orig_nbformat": 4
 },
 "nbformat": 4,
 "nbformat_minor": 2
}
