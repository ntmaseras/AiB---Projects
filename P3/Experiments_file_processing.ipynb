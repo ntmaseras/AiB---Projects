{
 "cells": [
  {
   "cell_type": "code",
   "execution_count": 1,
   "metadata": {},
   "outputs": [],
   "source": [
    "import sys\n",
    "from alignment import *\n",
    "from parsing import parse_matrix_and_gap_cost_in_subst_matrix,read_n_fasta\n",
    "import os\n",
    "from Bio import SeqIO\n",
    "from msa_sp_score_3k import compute_sp_score"
   ]
  },
  {
   "cell_type": "code",
   "execution_count": 3,
   "metadata": {},
   "outputs": [],
   "source": [
    "matrix_path = 'input/subst_matrix.txt'\n",
    "substitution_matrix = parse_matrix_and_gap_cost_in_subst_matrix(matrix_path)"
   ]
  },
  {
   "cell_type": "code",
   "execution_count": 7,
   "metadata": {},
   "outputs": [
    {
     "name": "stdout",
     "output_type": "stream",
     "text": [
      "testseqs_100_3.fasta  processed\n",
      "testseqs_10_3.fasta  processed\n",
      "testseqs_110_3.fasta  processed\n",
      "testseqs_120_3.fasta  processed\n",
      "testseqs_130_3.fasta  processed\n",
      "testseqs_140_3.fasta  processed\n",
      "testseqs_150_3.fasta  processed\n",
      "testseqs_160_3.fasta  processed\n",
      "testseqs_170_3.fasta  processed\n",
      "testseqs_180_3.fasta  processed\n",
      "testseqs_190_3.fasta  processed\n",
      "testseqs_200_3.fasta  processed\n",
      "testseqs_20_3.fasta  processed\n",
      "testseqs_30_3.fasta  processed\n",
      "Unexpected exception formatting exception. Falling back to standard exception\n"
     ]
    },
    {
     "name": "stderr",
     "output_type": "stream",
     "text": [
      "Traceback (most recent call last):\n",
      "  File \"c:\\Users\\genon\\anaconda3\\lib\\site-packages\\IPython\\core\\interactiveshell.py\", line 3460, in run_code\n",
      "    exec(code_obj, self.user_global_ns, self.user_ns)\n",
      "  File \"C:\\Users\\genon\\AppData\\Local\\Temp\\ipykernel_20840\\1945707428.py\", line 14, in <module>\n",
      "    approx_alignment = print_alignment(M,alignment_approx_outputfile,filename)\n",
      "  File \"c:\\Users\\genon\\uni\\master\\semestre2\\algorithms\\AiB projects\\P3\\alignment.py\", line 306, in print_alignment\n",
      "TypeError: 'NoneType' object is not iterable\n",
      "\n",
      "During handling of the above exception, another exception occurred:\n",
      "\n",
      "Traceback (most recent call last):\n",
      "  File \"c:\\Users\\genon\\anaconda3\\lib\\site-packages\\IPython\\core\\interactiveshell.py\", line 2057, in showtraceback\n",
      "    stb = self.InteractiveTB.structured_traceback(\n",
      "  File \"c:\\Users\\genon\\anaconda3\\lib\\site-packages\\IPython\\core\\ultratb.py\", line 1118, in structured_traceback\n",
      "    return FormattedTB.structured_traceback(\n",
      "  File \"c:\\Users\\genon\\anaconda3\\lib\\site-packages\\IPython\\core\\ultratb.py\", line 1012, in structured_traceback\n",
      "    return VerboseTB.structured_traceback(\n",
      "  File \"c:\\Users\\genon\\anaconda3\\lib\\site-packages\\IPython\\core\\ultratb.py\", line 865, in structured_traceback\n",
      "    formatted_exception = self.format_exception_as_a_whole(etype, evalue, etb, number_of_lines_of_context,\n",
      "  File \"c:\\Users\\genon\\anaconda3\\lib\\site-packages\\IPython\\core\\ultratb.py\", line 818, in format_exception_as_a_whole\n",
      "    frames.append(self.format_record(r))\n",
      "  File \"c:\\Users\\genon\\anaconda3\\lib\\site-packages\\IPython\\core\\ultratb.py\", line 736, in format_record\n",
      "    result += ''.join(_format_traceback_lines(frame_info.lines, Colors, self.has_colors, lvals))\n",
      "  File \"c:\\Users\\genon\\anaconda3\\lib\\site-packages\\stack_data\\utils.py\", line 144, in cached_property_wrapper\n",
      "    value = obj.__dict__[self.func.__name__] = self.func(obj)\n",
      "  File \"c:\\Users\\genon\\anaconda3\\lib\\site-packages\\stack_data\\core.py\", line 734, in lines\n",
      "    pieces = self.included_pieces\n",
      "  File \"c:\\Users\\genon\\anaconda3\\lib\\site-packages\\stack_data\\utils.py\", line 144, in cached_property_wrapper\n",
      "    value = obj.__dict__[self.func.__name__] = self.func(obj)\n",
      "  File \"c:\\Users\\genon\\anaconda3\\lib\\site-packages\\stack_data\\core.py\", line 681, in included_pieces\n",
      "    pos = scope_pieces.index(self.executing_piece)\n",
      "  File \"c:\\Users\\genon\\anaconda3\\lib\\site-packages\\stack_data\\utils.py\", line 144, in cached_property_wrapper\n",
      "    value = obj.__dict__[self.func.__name__] = self.func(obj)\n",
      "  File \"c:\\Users\\genon\\anaconda3\\lib\\site-packages\\stack_data\\core.py\", line 660, in executing_piece\n",
      "    return only(\n",
      "  File \"c:\\Users\\genon\\anaconda3\\lib\\site-packages\\executing\\executing.py\", line 190, in only\n",
      "    raise NotOneValueFound('Expected one value, found 0')\n",
      "executing.executing.NotOneValueFound: Expected one value, found 0\n"
     ]
    }
   ],
   "source": [
    "exact_scores = []\n",
    "approx_scores = []\n",
    "\n",
    "## for all the files in the directory testseqs\n",
    "\n",
    "for filename in os.listdir('testseqs'):\n",
    "    testfile = 'testseqs/'+filename\n",
    "    if os.path.isfile(testfile):    \n",
    "        list_of_seq = read_n_fasta(testfile,3)\n",
    "        ########## aprox \n",
    "        M = two_approx_algorithm_for_MSA(list_of_seq, substitution_matrix)\n",
    "        #approx_score_value = sp_score(M,substitution_matrix)\n",
    "        alignment_approx_outputfile = 'testseqs/approx/aligned_' + filename\n",
    "        approx_alignment = print_alignment(M,alignment_approx_outputfile,filename)\n",
    "        ########## exact \n",
    "        alignment_exact_outputfile = 'testseqs/exact/aligned_' + filename\n",
    "        exact_score_value, aligned_sequences = alignment_of_3_seqs(list_of_seq, substitution_matrix)\n",
    "        save_sequences_as_fasta(alignment_exact_outputfile, aligned_sequences,filename)\n",
    "        print(filename, \" processed\")\n",
    "    "
   ]
  }
 ],
 "metadata": {
  "kernelspec": {
   "display_name": "base",
   "language": "python",
   "name": "python3"
  },
  "language_info": {
   "codemirror_mode": {
    "name": "ipython",
    "version": 3
   },
   "file_extension": ".py",
   "mimetype": "text/x-python",
   "name": "python",
   "nbconvert_exporter": "python",
   "pygments_lexer": "ipython3",
   "version": "3.9.16"
  },
  "orig_nbformat": 4
 },
 "nbformat": 4,
 "nbformat_minor": 2
}
