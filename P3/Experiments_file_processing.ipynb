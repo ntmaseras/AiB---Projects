{
 "cells": [
  {
   "cell_type": "code",
   "execution_count": 1,
   "metadata": {},
   "outputs": [],
   "source": [
    "import sys\n",
    "from alignment import *\n",
    "from parsing import parse_matrix_and_gap_cost_in_subst_matrix,read_n_fasta\n",
    "import os\n",
    "from Bio import SeqIO\n",
    "from msa_sp_score_3k import compute_sp_score"
   ]
  },
  {
   "cell_type": "code",
   "execution_count": 2,
   "metadata": {},
   "outputs": [],
   "source": [
    "matrix_path = 'input/subst_matrix.txt'\n",
    "substitution_matrix = parse_matrix_and_gap_cost_in_subst_matrix(matrix_path)"
   ]
  },
  {
   "cell_type": "code",
   "execution_count": 4,
   "metadata": {},
   "outputs": [
    {
     "name": "stdout",
     "output_type": "stream",
     "text": [
      "testseqs_100_3.fasta  processed\n",
      "testseqs_10_3.fasta  processed\n",
      "testseqs_110_3.fasta  processed\n",
      "testseqs_120_3.fasta  processed\n",
      "testseqs_130_3.fasta  processed\n",
      "testseqs_140_3.fasta  processed\n",
      "testseqs_150_3.fasta  processed\n",
      "testseqs_160_3.fasta  processed\n",
      "testseqs_170_3.fasta  processed\n",
      "testseqs_180_3.fasta  processed\n",
      "testseqs_190_3.fasta  processed\n",
      "testseqs_200_3.fasta  processed\n",
      "testseqs_20_3.fasta  processed\n",
      "testseqs_30_3.fasta  processed\n",
      "testseqs_40_3.fasta  processed\n",
      "testseqs_50_3.fasta  processed\n",
      "testseqs_60_3.fasta  processed\n",
      "testseqs_70_3.fasta  processed\n",
      "testseqs_80_3.fasta  processed\n",
      "testseqs_90_3.fasta  processed\n"
     ]
    }
   ],
   "source": [
    "exact_scores = []\n",
    "approx_scores = []\n",
    "\n",
    "## for all the files in the directory testseqs\n",
    "\n",
    "for filename in os.listdir('testseqs'):\n",
    "    testfile = 'testseqs/'+filename\n",
    "    if os.path.isfile(testfile):    \n",
    "        list_of_seq = read_n_fasta(testfile,3)\n",
    "        ########## aprox \n",
    "        M = two_approx_algorithm_for_MSA(list_of_seq, substitution_matrix)\n",
    "        #approx_score_value = sp_score(M,substitution_matrix)\n",
    "        alignment_approx_outputfile = 'testseqs/approx/aligned_' + filename\n",
    "        approx_alignment = print_alignment(M,alignment_approx_outputfile,filename)\n",
    "        ########## exact \n",
    "        alignment_exact_outputfile = 'testseqs/exact/aligned_' + filename\n",
    "        exact_score_value, aligned_sequences = alignment_of_3_seqs(list_of_seq, substitution_matrix)\n",
    "        save_sequences_as_fasta(alignment_exact_outputfile, aligned_sequences,filename)\n",
    "        print(filename, \" processed\")\n",
    "    "
   ]
  }
 ],
 "metadata": {
  "kernelspec": {
   "display_name": "base",
   "language": "python",
   "name": "python3"
  },
  "language_info": {
   "codemirror_mode": {
    "name": "ipython",
    "version": 3
   },
   "file_extension": ".py",
   "mimetype": "text/x-python",
   "name": "python",
   "nbconvert_exporter": "python",
   "pygments_lexer": "ipython3",
   "version": "3.9.16"
  },
  "orig_nbformat": 4
 },
 "nbformat": 4,
 "nbformat_minor": 2
}
