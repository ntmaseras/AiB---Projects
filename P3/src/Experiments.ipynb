{
 "cells": [
  {
   "cell_type": "code",
   "execution_count": 1,
   "metadata": {},
   "outputs": [],
   "source": [
    "from alignment import *\n",
    "from parsing import parse_matrix_and_gap_cost_in_subst_matrix,read_n_fasta\n",
    "from msa_sp_score_3k import compute_sp_score\n",
    "import os"
   ]
  },
  {
   "cell_type": "code",
   "execution_count": 2,
   "metadata": {},
   "outputs": [],
   "source": [
    "matrix_path = 'input/subst_matrix.txt'\n",
    "substitution_matrix = parse_matrix_and_gap_cost_in_subst_matrix(matrix_path)"
   ]
  },
  {
   "attachments": {},
   "cell_type": "markdown",
   "metadata": {},
   "source": [
    "Experiments:\n",
    "Answer the following questions:\n",
    "\n",
    "    - What is the score of an optimal aligment of the first 3 sequences in brca1-testseqs.fasta (i.e. brca1_bos_taurus, brca1_canis_lupus and brca1_gallus_gallus) as computed by your program sp_exact_3? How does an optimal alignment look like?\n",
    "\n"
   ]
  },
  {
   "cell_type": "code",
   "execution_count": 5,
   "metadata": {},
   "outputs": [
    {
     "name": "stdout",
     "output_type": "stream",
     "text": [
      "The optimal score is:  790.0\n",
      "GCGAA---ATGTA-ACA-CG-GTAGAGGTGAT-CGGGGTG-CGTT-ATAC-GTGCGTGGTGACCTCGGTCGGTGT-TGACGGTGCCTGGGGTTCCTCAGAGTGTTTTGGGGTCTGAAGGATG-GACTTGTCAGTG-ATTGCCATTGGAGACGTGCAAAATGTGCTTTCAGCCATGCAGAA-GAA-CTT-GGAGTGTCCAGTCTGTTTAGATGTGAT\n",
      "ATGGATTTATCTGCGGATCGTGTTGAAGAAGTACAAAATGTTCTTAATGCTATGCA-GAAAATCTTAG--AGTGTCCAAT-ATGTCTGGAGTTGATCAAAGAG-CCT-GTTTCTACAAAGTGTGA-TCA-CA-TATTTTGCAAATTTTG-TATGCTGAA-AC-TTCTCAACCA-GAGGAAGGGGCCTTCACAGTGTCC--TTTGTGTAAGAACGA-\n",
      "ATGGATTTATCTGCGGATCATGTTGAAGAAGTACAAAATGTCCTCAATGCTATGCA-GAAAATCTTAG--AGTGTCCAAT-ATGTCTGGAGTTGATCAAAGAG-CCT-GTCTCTACAAAGTGTGA-CCA-CA-TATTTTGCAAATTTTG-TATGCTGAA-AC-TTCTCAACCA-GAAGAAAGGGCCTTCACAATGTCC--TTTGTGTAAGAATGA-\n"
     ]
    }
   ],
   "source": [
    "list_of_seq = read_n_fasta('experiments/brca1-testseqs.fasta',3)\n",
    "\n",
    "\n",
    "exact_score_value, aligned_sequences = alignment_of_3_seqs(list_of_seq, substitution_matrix)\n",
    "print(\"The optimal score is: \",exact_score_value)\n",
    "for seq in aligned_sequences:\n",
    "    print(seq)\n",
    "\n"
   ]
  },
  {
   "attachments": {},
   "cell_type": "markdown",
   "metadata": {},
   "source": [
    "    - What is the score of the alignment of the first 5 sequences in brca1-testseqs.fasta (i.e. brca1_bos_taurus, brca1_canis_lupus, brca1_gallus_gallus, brca1_homo_sapiens, and brca1_macaca_mulatta) as computed by your program sp_approx? Which of the 5 sequences is choosen as the 'center string'?\n"
   ]
  },
  {
   "cell_type": "code",
   "execution_count": 4,
   "metadata": {},
   "outputs": [
    {
     "name": "stdout",
     "output_type": "stream",
     "text": [
      "The optimal score is:  4345\n",
      "ATGGATTTATCTGCGGATCATGTTGAAGA-AG-TAC--AA-AAT-GTCC-TCAATGCTATGCA-GAAAATCTTAG--AGTGTCCAATA-TGTCTGGAGTTGATCAAAGAGCCT-GTC-TCTACAAAGTGTGA-C-C-A-C--A-TATTTTGCAAATTTTGTAT-G-C-TG-AAAC-T--TCTCAACCA-GAAGAAAGGGCCT-T-CAC--AAT-GTCC--TTTGTGTAAGAATGA\n",
      "ATGGATTTATCTGCGGATCGTGTTGAAGA-AG-TAC--AA-AAT-GTTC-TTAATGCTATGCA-GAAAATCTTAG--AGTGTCCAATA-TGTCTGGAGTTGATCAAAGAGCCT-GTT-TCTACAAAGTGTGA-T-C-A-C--A-TATTTTGCAAATTTTGTAT-G-C-TG-AAAC-T--TCTCAACCA-GAGGAAGGGGCCT-T-CAC--AGT-GTCC--TTTGTGTAAGAACGA\n",
      "GCGAA---AT--GTA-A-CACGGTAGAGGTGA-T-C--GG-GGT-G-CG-TTA-TAC-GTGCGTGGTGACCTCGGTCGGTGTT-GACGGTGCCTGGGGTTCCTCAGAGTGTTTTGGGGTCTGAAGGATG-GA-C-TTGTC--AGTGATT-GCCA-TTGGAGAC-G-TGCA-AAATGTGCTTTCAGCCATGCAGAA-GAAC-T-T-GG---AGT-GTCCAGTCTGTTTAGATGTGA\n",
      "GTACCTTGATTT-CGTATTCTGA-GAGGC-TGCTGCTTAGCGGTAGCCCCTTGGT-TTCCGTG-GCAA-CGGAAA--AGCGCGGGA-A-T-TACAGA-TAAATTAAA-A-C-T-GCG-ACTGCGCGGCGTGAGCTC-G-CTGA-GACTTCCTGGACGGGGGACAGGC-TGTGGGG-T--T-TC--TCA-GATAACTGGGCCCCTGCGCTCAGGAGGCC--TTCACCCTC---T--\n",
      "ATGGATTTATCTGCTGTTCGCGTTGAAGA-AG-TAC--AA-AAT-GTCA-TTAATGCTATGCA-GAAAATCTTAG--AGTGTCCAATC-TGTCTGGAGTTGATCAAGGAACCT-GTC-TCCACAAAGTGTGA-C-C-A-C--A-TATTTTGCAGATTTTGCAT-G-C-TG-AAAC-T--TCTCAACCA-GAAGAAAGGGCCT-T-CAC--AGT-GTCC--TTTGTGTAAGAATGA\n"
     ]
    }
   ],
   "source": [
    "list_of_seq = read_n_fasta('experiments/brca1-testseqs.fasta',5)\n",
    "M = two_approx_algorithm_for_MSA(list_of_seq, substitution_matrix)\n",
    "score = sp_score(M,substitution_matrix)\n",
    "print(\"The optimal score is: \",score)\n",
    "alignment = print_alignment(M)"
   ]
  },
  {
   "attachments": {},
   "cell_type": "markdown",
   "metadata": {},
   "source": [
    "    - Make an experiment comparing the scores of the alignments computed by sp_exact_3 and sp_approx that validates that the approximation ratio of sp_approx is 2(k-1)/k for k sequences. i.e 4/3 for three sequences. \n",
    "    \n",
    "    You should use the testdata in testseqs.zip that contains 20 fasta files (testseqs_10_3.fasta, testseqs_20_3.fasta, ..., testseqs_200_3.fasta) each containing 3 sequences of lengths 10, 20, ..., 200.\n",
    "\n",
    "    -For each triplet of sequences (i.e. each fasta file), you should compute the optimal score of an MSA using sp_exact_3 and the score of the alignment produced by sp_approx. Make a graph in which you plot the ratio of the computed scores for each sequence length. Comment on what you observe.\n",
    "\n",
    "    The python script msa_sp_score_3k.py (or msa_sp_score.py if you are using Python 2.x) can be used to compute the SP-score of an alignment stored in FASTA format cf. the above distance matrix and gapcost."
   ]
  },
  {
   "attachments": {},
   "cell_type": "markdown",
   "metadata": {},
   "source": [
    "Get scores of the approx and exact alignments:"
   ]
  },
  {
   "cell_type": "code",
   "execution_count": 5,
   "metadata": {},
   "outputs": [
    {
     "data": {
      "text/html": [
       "<div>\n",
       "<style scoped>\n",
       "    .dataframe tbody tr th:only-of-type {\n",
       "        vertical-align: middle;\n",
       "    }\n",
       "\n",
       "    .dataframe tbody tr th {\n",
       "        vertical-align: top;\n",
       "    }\n",
       "\n",
       "    .dataframe thead th {\n",
       "        text-align: right;\n",
       "    }\n",
       "</style>\n",
       "<table border=\"1\" class=\"dataframe\">\n",
       "  <thead>\n",
       "    <tr style=\"text-align: right;\">\n",
       "      <th></th>\n",
       "      <th>approx_score</th>\n",
       "      <th>exact_score</th>\n",
       "      <th>ratio</th>\n",
       "    </tr>\n",
       "  </thead>\n",
       "  <tbody>\n",
       "    <tr>\n",
       "      <th>100</th>\n",
       "      <td>752.0</td>\n",
       "      <td>687.0</td>\n",
       "      <td>1.094614</td>\n",
       "    </tr>\n",
       "    <tr>\n",
       "      <th>10</th>\n",
       "      <td>60.0</td>\n",
       "      <td>70.0</td>\n",
       "      <td>0.857143</td>\n",
       "    </tr>\n",
       "    <tr>\n",
       "      <th>110</th>\n",
       "      <td>807.0</td>\n",
       "      <td>754.0</td>\n",
       "      <td>1.070292</td>\n",
       "    </tr>\n",
       "    <tr>\n",
       "      <th>120</th>\n",
       "      <td>878.0</td>\n",
       "      <td>820.0</td>\n",
       "      <td>1.070732</td>\n",
       "    </tr>\n",
       "    <tr>\n",
       "      <th>130</th>\n",
       "      <td>983.0</td>\n",
       "      <td>895.0</td>\n",
       "      <td>1.098324</td>\n",
       "    </tr>\n",
       "  </tbody>\n",
       "</table>\n",
       "</div>"
      ],
      "text/plain": [
       "     approx_score  exact_score     ratio\n",
       "100         752.0        687.0  1.094614\n",
       "10           60.0         70.0  0.857143\n",
       "110         807.0        754.0  1.070292\n",
       "120         878.0        820.0  1.070732\n",
       "130         983.0        895.0  1.098324"
      ]
     },
     "execution_count": 5,
     "metadata": {},
     "output_type": "execute_result"
    }
   ],
   "source": [
    "## We have processed the files in testseqs and we have the files with the alignments. Now we can read the alignments and get the scores.\n",
    "results = pd.DataFrame()\n",
    "for filename in os.listdir('testseqs'):\n",
    "    ####### approx\n",
    "    testfile = 'testseqs/approx/aligned_'+filename\n",
    "    if os.path.isfile(testfile):   \n",
    "        number = int(filename.split('_')[1])\n",
    "        results.loc[number,'approx_score']= compute_sp_score(testfile)\n",
    "    ###### exact\n",
    "    testfile = 'testseqs/exact/aligned_'+filename\n",
    "    if os.path.isfile(testfile): \n",
    "        number = int(filename.split('_')[1])\n",
    "        results.loc[number,'exact_score']= compute_sp_score(testfile)\n",
    "results['ratio'] = results.approx_score / results.exact_score"
   ]
  },
  {
   "cell_type": "code",
   "execution_count": 6,
   "metadata": {},
   "outputs": [
    {
     "data": {
      "text/html": [
       "<div>\n",
       "<style scoped>\n",
       "    .dataframe tbody tr th:only-of-type {\n",
       "        vertical-align: middle;\n",
       "    }\n",
       "\n",
       "    .dataframe tbody tr th {\n",
       "        vertical-align: top;\n",
       "    }\n",
       "\n",
       "    .dataframe thead th {\n",
       "        text-align: right;\n",
       "    }\n",
       "</style>\n",
       "<table border=\"1\" class=\"dataframe\">\n",
       "  <thead>\n",
       "    <tr style=\"text-align: right;\">\n",
       "      <th></th>\n",
       "      <th>seqSize</th>\n",
       "      <th>approx_score</th>\n",
       "      <th>exact_score</th>\n",
       "      <th>ratio</th>\n",
       "    </tr>\n",
       "  </thead>\n",
       "  <tbody>\n",
       "    <tr>\n",
       "      <th>1</th>\n",
       "      <td>10</td>\n",
       "      <td>60.0</td>\n",
       "      <td>70.0</td>\n",
       "      <td>0.857143</td>\n",
       "    </tr>\n",
       "    <tr>\n",
       "      <th>12</th>\n",
       "      <td>20</td>\n",
       "      <td>140.0</td>\n",
       "      <td>135.0</td>\n",
       "      <td>1.037037</td>\n",
       "    </tr>\n",
       "    <tr>\n",
       "      <th>13</th>\n",
       "      <td>30</td>\n",
       "      <td>259.0</td>\n",
       "      <td>231.0</td>\n",
       "      <td>1.121212</td>\n",
       "    </tr>\n",
       "    <tr>\n",
       "      <th>14</th>\n",
       "      <td>50</td>\n",
       "      <td>428.0</td>\n",
       "      <td>385.0</td>\n",
       "      <td>1.111688</td>\n",
       "    </tr>\n",
       "    <tr>\n",
       "      <th>15</th>\n",
       "      <td>70</td>\n",
       "      <td>565.0</td>\n",
       "      <td>516.0</td>\n",
       "      <td>1.094961</td>\n",
       "    </tr>\n",
       "  </tbody>\n",
       "</table>\n",
       "</div>"
      ],
      "text/plain": [
       "    seqSize  approx_score  exact_score     ratio\n",
       "1        10          60.0         70.0  0.857143\n",
       "12       20         140.0        135.0  1.037037\n",
       "13       30         259.0        231.0  1.121212\n",
       "14       50         428.0        385.0  1.111688\n",
       "15       70         565.0        516.0  1.094961"
      ]
     },
     "execution_count": 6,
     "metadata": {},
     "output_type": "execute_result"
    }
   ],
   "source": [
    "results = results.reset_index().rename(columns = {'index' : 'seqSize'})\n",
    "results = results.sort_values(by='seqSize')\n",
    "results.head()"
   ]
  },
  {
   "cell_type": "code",
   "execution_count": 7,
   "metadata": {},
   "outputs": [
    {
     "data": {
      "image/png": "[encoded data removed]",
      "text/plain": [
       "<Figure size 640x480 with 1 Axes>"
      ]
     },
     "metadata": {},
     "output_type": "display_data"
    }
   ],
   "source": [
    "import matplotlib.pyplot as plt\n",
    "\n",
    "# Plot a line of the 'y' column against the 'x' column\n",
    "results.plot(x='seqSize', y='ratio', kind='line')\n",
    "plt.show()"
   ]
  }
 ],
 "metadata": {
  "kernelspec": {
   "display_name": "base",
   "language": "python",
   "name": "python3"
  },
  "language_info": {
   "codemirror_mode": {
    "name": "ipython",
    "version": 3
   },
   "file_extension": ".py",
   "mimetype": "text/x-python",
   "name": "python",
   "nbconvert_exporter": "python",
   "pygments_lexer": "ipython3",
   "version": "3.9.16"
  },
  "orig_nbformat": 4
 },
 "nbformat": 4,
 "nbformat_minor": 2
}
